{
 "cells": [
  {
   "cell_type": "markdown",
   "id": "fab59f4e",
   "metadata": {},
   "source": [
    "## Ребров. Урок 5. Домашка"
   ]
  },
  {
   "cell_type": "code",
   "execution_count": 10,
   "id": "b7649c6f",
   "metadata": {},
   "outputs": [],
   "source": [
    "import numpy as np\n",
    "from numpy import linalg"
   ]
  },
  {
   "cell_type": "code",
   "execution_count": 7,
   "id": "abee572f",
   "metadata": {},
   "outputs": [
    {
     "name": "stdout",
     "output_type": "stream",
     "text": [
      "U:\n",
      "[[ 0.17056501  0.15680918 -0.53077508 -0.79905375 -0.16158397]\n",
      " [ 0.39287016 -0.52933945  0.6134793  -0.43375771  0.03082495]\n",
      " [-0.14366152 -0.82449256 -0.52379105  0.14049848  0.07400343]\n",
      " [ 0.88843702  0.06074346 -0.24655277  0.37755832 -0.06042632]\n",
      " [ 0.08125046  0.10831843 -0.08231425 -0.10524851  0.98173958]]\n",
      "D:\n",
      "[[8.82486885 0.         0.        ]\n",
      " [0.         6.14060608 0.        ]\n",
      " [0.         0.         2.53271528]\n",
      " [0.         0.         0.        ]\n",
      " [0.         0.         0.        ]]\n",
      "V:\n",
      "[[ 0.07116451 -0.36737824 -0.92734505]\n",
      " [ 0.71702467  0.66514082 -0.20847855]\n",
      " [ 0.69340553 -0.65009301  0.31075368]]\n"
     ]
    }
   ],
   "source": [
    "#Задание 1\n",
    "\n",
    "A = np.array([[1., 2., 0.], [0., 0., 5.], [3., -4., 2.], [1., 6., 5.], [0., 1., 0.]])\n",
    "\n",
    "U, s, W = np.linalg.svd(A)\n",
    "V = W.T\n",
    "D = np.zeros_like(A)\n",
    "D[np.diag_indices(min(A.shape))] = s\n",
    "\n",
    "print(f'U:\\n{U}\\nD:\\n{D}\\nV:\\n{V}')"
   ]
  },
  {
   "cell_type": "code",
   "execution_count": 5,
   "id": "a687edf5",
   "metadata": {},
   "outputs": [
    {
     "name": "stdout",
     "output_type": "stream",
     "text": [
      "[[ 1.00000000e+00  2.00000000e+00  1.31018987e-15]\n",
      " [ 1.93009612e-16 -2.66609409e-15  5.00000000e+00]\n",
      " [ 3.00000000e+00 -4.00000000e+00  2.00000000e+00]\n",
      " [ 1.00000000e+00  6.00000000e+00  5.00000000e+00]\n",
      " [-5.49534701e-17  1.00000000e+00 -3.02821608e-17]]\n"
     ]
    }
   ],
   "source": [
    "print(np.dot(np.dot(U, D), V.T))"
   ]
  },
  {
   "cell_type": "code",
   "execution_count": 40,
   "id": "769c47cf",
   "metadata": {},
   "outputs": [
    {
     "name": "stdout",
     "output_type": "stream",
     "text": [
      "Норма Евклида:\n",
      "8.824868854820444\n",
      "8.824868854820444\n"
     ]
    }
   ],
   "source": [
    "#Задание 2. Норма Евклида\n",
    "\n",
    "d = D[0]\n",
    "norm_e = d[0]\n",
    "\n",
    "norm_E = np.linalg.norm(A, ord=2)\n",
    "\n",
    "print(f'Норма Евклида:\\n{norm_e}\\n{norm_E}')"
   ]
  },
  {
   "cell_type": "code",
   "execution_count": 41,
   "id": "0689769c",
   "metadata": {},
   "outputs": [
    {
     "name": "stdout",
     "output_type": "stream",
     "text": [
      "Норма Фробениуса:\n",
      "11.045361017187263\n",
      "11.045361017187261\n"
     ]
    }
   ],
   "source": [
    "# Задание 2. Норма Фробениуса\n",
    "\n",
    "f = 0\n",
    "for i in D:\n",
    "    i = i**2\n",
    "    f += i\n",
    "norm_f = np.sum([m])**(1/2)\n",
    "norm_f\n",
    "\n",
    "norm_F = np.linalg.norm(A, ord=None)\n",
    "\n",
    "print(f'Норма Фробениуса:\\n{norm_f}\\n{norm_F}')"
   ]
  },
  {
   "cell_type": "code",
   "execution_count": null,
   "id": "fb898c07",
   "metadata": {},
   "outputs": [],
   "source": []
  }
 ],
 "metadata": {
  "kernelspec": {
   "display_name": "Python 3 (ipykernel)",
   "language": "python",
   "name": "python3"
  },
  "language_info": {
   "codemirror_mode": {
    "name": "ipython",
    "version": 3
   },
   "file_extension": ".py",
   "mimetype": "text/x-python",
   "name": "python",
   "nbconvert_exporter": "python",
   "pygments_lexer": "ipython3",
   "version": "3.9.6"
  }
 },
 "nbformat": 4,
 "nbformat_minor": 5
}
