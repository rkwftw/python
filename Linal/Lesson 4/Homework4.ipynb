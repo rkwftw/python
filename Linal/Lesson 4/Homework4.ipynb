{
 "cells": [
  {
   "cell_type": "markdown",
   "id": "58246782",
   "metadata": {},
   "source": [
    "## Ребров. Домашка 4."
   ]
  },
  {
   "cell_type": "markdown",
   "id": "ad4af27e",
   "metadata": {},
   "source": [
    "### Часть 1"
   ]
  },
  {
   "cell_type": "code",
   "execution_count": 104,
   "id": "bd69601b",
   "metadata": {},
   "outputs": [],
   "source": [
    "import numpy as np\n",
    "from numpy import linalg as LA\n",
    "from pprint import pprint\n",
    "import scipy\n",
    "import scipy.linalg as lg\n",
    " "
   ]
  },
  {
   "cell_type": "code",
   "execution_count": 113,
   "id": "36963590",
   "metadata": {},
   "outputs": [
    {
     "name": "stdout",
     "output_type": "stream",
     "text": [
      "Задание 2a\n",
      "[[ 3 -1  1]\n",
      " [ 2 -5 -3]\n",
      " [ 1  1 -1]]\n",
      "[[  3  -1   1   4]\n",
      " [  2  -5  -3 -17]\n",
      " [  1   1  -1   0]]\n",
      "Ранг(А) = 3, Ранг(Ае) = 3\n",
      "Система совместна, имеет единственное решение\n"
     ]
    }
   ],
   "source": [
    "#Задание 2a\n",
    "\n",
    "n = 3\n",
    "a = np.array([[3, -1, 1], [2, -5, -3], [1, 1, -1]])\n",
    "a_e = np.array([[3, -1, 1, 4], [2, -5, -3, -17], [1, 1, -1, 0]])\n",
    "r_a = LA.matrix_rank(a)\n",
    "r_ae = LA.matrix_rank(a_e)\n",
    "\n",
    "print(f'Задание 2a')\n",
    "print(f'{a}\\n{a_e}')\n",
    "print(f'Ранг(А) = {r_a}, Ранг(Ае) = {r_ae}')\n",
    "if r_ae == r_a == n:\n",
    "    print(f'Система совместна, имеет единственное решение')\n",
    "elif r_ae == r_a != n:\n",
    "    print(f'Система совместна, имеет несколько решений')\n",
    "else:\n",
    "    print(f'Система не совместна, не имеет решений')"
   ]
  },
  {
   "cell_type": "code",
   "execution_count": 114,
   "id": "82816e22",
   "metadata": {},
   "outputs": [
    {
     "name": "stdout",
     "output_type": "stream",
     "text": [
      "Задание 2б\n",
      "[[ 2 -4  6]\n",
      " [ 1 -2 -3]\n",
      " [ 3 -6  9]]\n",
      "[[ 2 -4  6  1]\n",
      " [ 1 -2 -3 -2]\n",
      " [ 3 -6  9  5]]\n",
      "Ранг(А) = 2, Ранг(Ае) = 3\n",
      "Система не совместна, не имеет решений\n"
     ]
    }
   ],
   "source": [
    "#Задание 2б\n",
    "\n",
    "n = 3\n",
    "a = np.array([[2, -4, 6], [1, -2, -3], [3, -6, 9]])\n",
    "a_e = np.array([[2, -4, 6, 1], [1, -2, -3, -2], [3, -6, 9, 5]])\n",
    "r_a = LA.matrix_rank(a)\n",
    "r_ae = LA.matrix_rank(a_e)\n",
    "\n",
    "print(f'Задание 2б')\n",
    "print(f'{a}\\n{a_e}')\n",
    "print(f'Ранг(А) = {r_a}, Ранг(Ае) = {r_ae}')\n",
    "if r_ae == r_a == n:\n",
    "    print(f'Система совместна, имеет единственное решение')\n",
    "elif r_ae == r_a != n:\n",
    "    print(f'Система совместна, имеет несколько решений')\n",
    "else:\n",
    "    print(f'Система не совместна, не имеет решений')"
   ]
  },
  {
   "cell_type": "code",
   "execution_count": 115,
   "id": "d5a57c69",
   "metadata": {},
   "outputs": [
    {
     "name": "stdout",
     "output_type": "stream",
     "text": [
      "Задание 2в\n",
      "[[ 1  2  5]\n",
      " [ 3  1 -8]]\n",
      "[[ 1  2  5  4]\n",
      " [ 3  1 -8 -2]]\n",
      "Ранг(А) = 2, Ранг(Ае) = 2\n",
      "Система совместна, имеет несколько решений\n"
     ]
    }
   ],
   "source": [
    "#Задание 2в\n",
    "\n",
    "n = 3\n",
    "a = np.array([[1, 2, 5], [3, 1, -8]])\n",
    "a_e = np.array([[1, 2, 5, 4], [3, 1, -8, -2]])\n",
    "r_a = LA.matrix_rank(a)\n",
    "r_ae = LA.matrix_rank(a_e)\n",
    "\n",
    "print(f'Задание 2в')\n",
    "print(f'{a}\\n{a_e}')\n",
    "print(f'Ранг(А) = {r_a}, Ранг(Ае) = {r_ae}')\n",
    "if r_ae == r_a == n:\n",
    "    print(f'Система совместна, имеет единственное решение')\n",
    "elif r_ae == r_a != n:\n",
    "    print(f'Система совместна, имеет несколько решений')\n",
    "else:\n",
    "    print(f'Система не совместна, не имеет решений')"
   ]
  },
  {
   "cell_type": "code",
   "execution_count": 116,
   "id": "b5a1e3ea",
   "metadata": {},
   "outputs": [
    {
     "name": "stdout",
     "output_type": "stream",
     "text": [
      "Задание 3\n",
      "[[ 1  3 -2  4]\n",
      " [ 0  5  0  1]\n",
      " [ 0  0  3  0]\n",
      " [ 0  0  0  2]]\n",
      "[[ 1  3 -2  4  3]\n",
      " [ 0  5  0  1  2]\n",
      " [ 0  0  3  0  4]\n",
      " [ 0  0  0  2  1]]\n",
      "Ранг(А) = 4, Ранг(Ае) = 4\n",
      "Система совместна, имеет единственное решение\n"
     ]
    }
   ],
   "source": [
    "#Задание 3\n",
    "\n",
    "n = 4\n",
    "a = np.array([[1, 3, -2, 4], [0, 5, 0, 1], [0, 0, 3, 0], [0, 0, 0, 2]])\n",
    "a_e = np.array([[1, 3, -2, 4, 3], [0, 5, 0, 1, 2], [0, 0, 3, 0, 4], [0, 0, 0, 2, 1]])\n",
    "r_a = LA.matrix_rank(a)\n",
    "r_ae = LA.matrix_rank(a_e)\n",
    "\n",
    "print(f'Задание 3')\n",
    "print(f'{a}\\n{a_e}')\n",
    "print(f'Ранг(А) = {r_a}, Ранг(Ае) = {r_ae}')\n",
    "if r_ae == r_a == n:\n",
    "    print(f'Система совместна, имеет единственное решение')\n",
    "elif r_ae == r_a != n:\n",
    "    print(f'Система совместна, имеет несколько решений')\n",
    "else:\n",
    "    print(f'Система не совместна, не имеет решений')"
   ]
  },
  {
   "cell_type": "markdown",
   "id": "e25bc4b4",
   "metadata": {},
   "source": [
    "### Часть 2"
   ]
  },
  {
   "cell_type": "code",
   "execution_count": 109,
   "id": "791dbdb7",
   "metadata": {},
   "outputs": [],
   "source": [
    "#Задание 5\n",
    "def LU(A):\n",
    "    \n",
    "    \n",
    "    n = A.shape[0]\n",
    "    U = A.copy()\n",
    "    L = np.eye(n, dtype=np.double)\n",
    "    \n",
    "    for i in range(n):\n",
    "            \n",
    "        factor = U[i+1:, i] / U[i, i]\n",
    "        L[i+1:, i] = factor\n",
    "        U[i+1:] -= factor[:, np.newaxis] * U[i]\n",
    "        \n",
    "    return L, U\n",
    "\n",
    "def forward_substitution(L, b):\n",
    "\n",
    "    n = L.shape[0]\n",
    "\n",
    "    y = np.zeros_like(b, dtype=np.double);\n",
    "\n",
    "    y[0] = b[0] / L[0, 0]\n",
    "\n",
    "    for i in range(1, n):\n",
    "        y[i] = (b[i] - np.dot(L[i,:i], y[:i])) / L[i,i]\n",
    "        \n",
    "    return y\n",
    "\n",
    "def back_substitution(U, y):\n",
    "\n",
    "    n = U.shape[0]\n",
    "\n",
    "    x = np.zeros_like(y, dtype=np.double);\n",
    "\n",
    "    x[-1] = y[-1] / U[-1, -1]\n",
    "\n",
    "    for i in range(n-2, -1, -1):\n",
    "        x[i] = (y[i] - np.dot(U[i,i:], x[i:])) / U[i,i]\n",
    "        \n",
    "    return x\n",
    "\n",
    "def lu_solve(A, b):\n",
    "    \n",
    "    L, U = LU(A)\n",
    "    \n",
    "    y = forward_substitution(L, b)\n",
    "    \n",
    "    return back_substitution(U, y)\n",
    "\n"
   ]
  },
  {
   "cell_type": "code",
   "execution_count": 117,
   "id": "9fc6736b",
   "metadata": {},
   "outputs": [
    {
     "name": "stdout",
     "output_type": "stream",
     "text": [
      "Задание 2а:\n",
      "L:\n",
      "[[1. 0. 0.]\n",
      " [2. 1. 0.]\n",
      " [3. 4. 1.]]\n"
     ]
    }
   ],
   "source": [
    "#Задание 2а\n",
    "A = np.array([[1., 2., 4.], [2., 9., 12.], [3., 26., 30.]])\n",
    "L, U = LU(A)\n",
    "print(f'Задание 2а:\\nL:\\n{L}')\n"
   ]
  },
  {
   "cell_type": "code",
   "execution_count": 111,
   "id": "329e755e",
   "metadata": {},
   "outputs": [
    {
     "name": "stdout",
     "output_type": "stream",
     "text": [
      "Задание 2б\n",
      "L:\n",
      "[[1. 0. 0. 0.]\n",
      " [2. 1. 0. 0.]\n",
      " [3. 5. 1. 0.]\n",
      " [4. 6. 7. 1.]]\n"
     ]
    }
   ],
   "source": [
    "#Задание 2б\n",
    "A = np.array([[1., 1., 2., 4.], [2., 5., 8., 9.], [3., 18., 29., 18.], [4., 22., 53., 33.]])\n",
    "L, U = LU(A)\n",
    "print(f'Задание 2б\\nL:\\n{L}')"
   ]
  },
  {
   "cell_type": "code",
   "execution_count": 112,
   "id": "8b5cd6f4",
   "metadata": {},
   "outputs": [
    {
     "name": "stdout",
     "output_type": "stream",
     "text": [
      "Задание 3:\n",
      "[-1.  0.  1.]\n"
     ]
    }
   ],
   "source": [
    "#Задание 3\n",
    "A = np.array([[2., 1., 3.], [11., 7., 5.], [9., 86., 4.]])\n",
    "b = np.array([1., -6., -5.])\n",
    "\n",
    "print(f'Задание 3:\\n{lu_solve(A, b)}')"
   ]
  },
  {
   "cell_type": "code",
   "execution_count": null,
   "id": "96ac97a8",
   "metadata": {},
   "outputs": [],
   "source": []
  }
 ],
 "metadata": {
  "kernelspec": {
   "display_name": "Python 3 (ipykernel)",
   "language": "python",
   "name": "python3"
  },
  "language_info": {
   "codemirror_mode": {
    "name": "ipython",
    "version": 3
   },
   "file_extension": ".py",
   "mimetype": "text/x-python",
   "name": "python",
   "nbconvert_exporter": "python",
   "pygments_lexer": "ipython3",
   "version": "3.9.6"
  }
 },
 "nbformat": 4,
 "nbformat_minor": 5
}
