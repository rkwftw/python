{
 "cells": [
  {
   "cell_type": "markdown",
   "id": "dcfb8f7b",
   "metadata": {},
   "source": [
    "## Ребров. Домашнее задание к уроку 3"
   ]
  },
  {
   "cell_type": "markdown",
   "id": "d354ed8a",
   "metadata": {},
   "source": [
    "## Задание 1"
   ]
  },
  {
   "cell_type": "code",
   "execution_count": 91,
   "id": "e80260ab",
   "metadata": {},
   "outputs": [],
   "source": [
    "import numpy as np\n",
    "import matplotlib.pyplot as plt"
   ]
  },
  {
   "cell_type": "code",
   "execution_count": 92,
   "id": "d0383ff3",
   "metadata": {},
   "outputs": [],
   "source": [
    "def calc_logloss(y, p, mod=1e-10):\n",
    "    p_mod = np.where(p==0, p + mod, np.where(p==1, p - mod, p))\n",
    "    err = np.mean(- y * np.log(p_mod) - (1.0 - y) * np.log(1.0 - p_mod))\n",
    "    return err"
   ]
  },
  {
   "cell_type": "code",
   "execution_count": 93,
   "id": "45f5f9e5",
   "metadata": {},
   "outputs": [
    {
     "data": {
      "text/plain": [
       "1.000000082790371e-10"
      ]
     },
     "execution_count": 93,
     "metadata": {},
     "output_type": "execute_result"
    }
   ],
   "source": [
    "# Пример применения\n",
    "y = 0\n",
    "p = 0\n",
    "calc_logloss(y, p)"
   ]
  },
  {
   "cell_type": "markdown",
   "id": "dc60fa63",
   "metadata": {},
   "source": [
    "## Задание 2"
   ]
  },
  {
   "cell_type": "code",
   "execution_count": 94,
   "id": "3670365f",
   "metadata": {},
   "outputs": [
    {
     "data": {
      "text/plain": [
       "array([[1.00e+00, 1.00e+00, 5.00e+02, 2.10e+01],\n",
       "       [1.00e+00, 1.00e+00, 7.00e+02, 2.50e+01],\n",
       "       [1.00e+00, 2.00e+00, 7.50e+02, 2.70e+01],\n",
       "       [1.00e+00, 1.00e+00, 6.00e+02, 2.00e+01],\n",
       "       [1.00e+00, 3.00e+00, 1.45e+03, 2.50e+01],\n",
       "       [1.00e+00, 0.00e+00, 8.00e+02, 1.80e+01],\n",
       "       [1.00e+00, 5.00e+00, 1.50e+03, 3.50e+01],\n",
       "       [1.00e+00, 1.00e+01, 2.00e+03, 6.00e+01],\n",
       "       [1.00e+00, 1.00e+00, 4.50e+02, 2.00e+01],\n",
       "       [1.00e+00, 2.00e+00, 1.00e+03, 3.00e+01]])"
      ]
     },
     "execution_count": 94,
     "metadata": {},
     "output_type": "execute_result"
    }
   ],
   "source": [
    "# данные из урока\n",
    "X = np.array([[1, 1, 1, 1, 1, 1, 1, 1, 1, 1],\n",
    "              [1, 1, 2, 1, 3, 0, 5, 10, 1, 2],  # стаж репетитора\n",
    "              [500, 700, 750, 600, 1450,        # средняя стоимость занятия\n",
    "               800, 1500, 2000, 450, 1000],\n",
    "              [21, 25, 27, 20, 25, 18, 35, 60, 20, 30]],  # возраст репетитора\n",
    "              dtype = np.float64).T \n",
    "\n",
    "y = np.array([0, 0, 0, 1, 1, 1, 1, 0, 0, 0]) # подходит или нет репетитор\n",
    "\n",
    "X"
   ]
  },
  {
   "cell_type": "code",
   "execution_count": 95,
   "id": "13e1bf23",
   "metadata": {},
   "outputs": [
    {
     "data": {
      "text/plain": [
       "array([[ 1.        , -0.57142857, -0.97958969, -0.60595294],\n",
       "       [ 1.        , -0.57142857, -0.56713087, -0.264571  ],\n",
       "       [ 1.        , -0.21428571, -0.46401617, -0.09388003],\n",
       "       [ 1.        , -0.57142857, -0.77336028, -0.69129842],\n",
       "       [ 1.        ,  0.14285714,  0.97958969, -0.264571  ],\n",
       "       [ 1.        , -0.92857143, -0.36090146, -0.86198939],\n",
       "       [ 1.        ,  0.85714286,  1.08270439,  0.58888384],\n",
       "       [ 1.        ,  2.64285714,  2.11385144,  2.72252095],\n",
       "       [ 1.        , -0.57142857, -1.08270439, -0.69129842],\n",
       "       [ 1.        , -0.21428571,  0.05155735,  0.16215642]])"
      ]
     },
     "execution_count": 95,
     "metadata": {},
     "output_type": "execute_result"
    }
   ],
   "source": [
    "def standardization(X):\n",
    "    S = (X - X.mean(axis=0)) / X.std(axis=0)\n",
    "    return S\n",
    "\n",
    "X_st = X.copy()\n",
    "X_st[:, 1:] = standardization(X[:, 1:])\n",
    "X_st"
   ]
  },
  {
   "cell_type": "code",
   "execution_count": 96,
   "id": "bacfdd57",
   "metadata": {},
   "outputs": [],
   "source": [
    "def sigmoid(z):\n",
    "    return 1 / (1 + np.exp(-z))"
   ]
  },
  {
   "cell_type": "code",
   "execution_count": 97,
   "id": "2e5e0d4e",
   "metadata": {},
   "outputs": [],
   "source": [
    "# логистическая регрессия\n",
    "def eval_LR_model(X, y, iterations, eta=1e-4):\n",
    "    print(f'eta: {eta}')\n",
    "    np.random.seed(42)\n",
    "    w = np.random.randn(X.shape[1])\n",
    "    n = X.shape[0]\n",
    "    for i in range(1, iterations + 1):\n",
    "        z = np.dot(X, w) # log(p/(1-p))\n",
    "        pred = sigmoid(z) # p [0, 1]\n",
    "        w -= eta * (1/n * np.dot((pred - y), X))\n",
    "        err = calc_logloss(y, sigmoid(np.dot(X, w)))\n",
    "        if i % (iterations / 10) == 0:\n",
    "            print(i, w, err)\n",
    "    return w"
   ]
  },
  {
   "cell_type": "code",
   "execution_count": 98,
   "id": "bfd6bb45",
   "metadata": {},
   "outputs": [
    {
     "name": "stdout",
     "output_type": "stream",
     "text": [
      "eta: 0.1\n",
      "1000 [-0.42116566 -0.72960015  4.0167637  -3.66608553] 0.2591851393199028\n",
      "2000 [-0.38095696 -0.08532927  5.17392286 -5.84261815] 0.19336609708554406\n",
      "3000 [-0.36214806  0.44879933  5.94973698 -7.46802116] 0.15790191568659315\n",
      "4000 [-0.35115042  0.86720485  6.58440834 -8.78286033] 0.13476850345627692\n",
      "5000 [-0.34379237  1.19505322  7.14086558 -9.89176471] 0.11826839250465011\n",
      "6000 [ -0.33854401   1.45463579   7.64419119 -10.85333981] 0.10579754301892333\n",
      "7000 [ -0.33468038   1.66257658   8.10733751 -11.70410461] 0.0959719032971246\n",
      "8000 [ -0.33180125   1.83093146   8.53815595 -12.46836824] 0.08798507678591064\n",
      "9000 [ -0.329664     1.96848368   8.94192624 -13.16311571] 0.08133465624595462\n",
      "10000 [ -0.32811099   2.0817206    9.3224602  -13.80067756] 0.0756906690336185\n"
     ]
    }
   ],
   "source": [
    "w = eval_LR_model(X_st, y, iterations=10000, eta=0.1)"
   ]
  },
  {
   "cell_type": "code",
   "execution_count": 99,
   "id": "cd3af9bf",
   "metadata": {},
   "outputs": [
    {
     "name": "stdout",
     "output_type": "stream",
     "text": [
      "eta: 0.01\n",
      "100 [ 0.36010646 -0.39575078  0.52123389  1.19299974] 0.9731003734511796\n",
      "200 [ 0.21572836 -0.60942785  0.44509819  0.90393881] 0.8166974330297274\n",
      "300 [ 0.08380852 -0.76145451  0.42983438  0.67508032] 0.7225766061541254\n",
      "400 [-0.02320913 -0.85171454  0.46949374  0.50830023] 0.6729938828534914\n",
      "500 [-0.1068503  -0.90309153  0.5407145   0.38158605] 0.642052523429957\n",
      "600 [-0.17227818 -0.93461152  0.62555334  0.27619522] 0.6184245744228153\n",
      "700 [-0.22377192 -0.95614465  0.71491883  0.1823427 ] 0.5984990139401665\n",
      "800 [-0.26454304 -0.97237208  0.80461727  0.09535394] 0.5809543944866304\n",
      "900 [-0.29702017 -0.98553532  0.89275117  0.01295673] 0.5651668332347642\n",
      "1000 [-0.32305707 -0.99674263  0.97848813 -0.06600631] 0.5507762407460456\n"
     ]
    }
   ],
   "source": [
    "w = eval_LR_model(X_st, y, iterations=1000, eta=0.01)"
   ]
  },
  {
   "cell_type": "code",
   "execution_count": 100,
   "id": "63f2e7a6",
   "metadata": {},
   "outputs": [
    {
     "name": "stdout",
     "output_type": "stream",
     "text": [
      "eta: 0.5\n",
      "100 [-0.45065762 -1.0204947   2.95223092 -2.12550627] 0.3325093377090929\n",
      "200 [-0.42106498 -0.73100154  4.02296056 -3.67214421] 0.2589359141595605\n",
      "300 [-0.3968361  -0.39956812  4.68264189 -4.856764  ] 0.2198101255354527\n",
      "400 [-0.38094678 -0.08589549  5.17832712 -5.84807554] 0.19322989889903375\n",
      "500 [-0.37009414  0.19717158  5.59069863 -6.70906551] 0.17338243679286894\n",
      "600 [-0.36216991  0.4485988   5.95340407 -7.47304317] 0.15780500768019853\n",
      "700 [-0.35606323  0.67082222  6.28275995 -8.16101285] 0.1451770030496274\n",
      "800 [-0.35117763  0.86715686  6.58768539 -8.78751977] 0.1346935003637892\n",
      "900 [-0.34716833  1.04090547  6.87355867 -9.36320035] 0.12582548944888272\n",
      "1000 [-0.34381963  1.19506077  7.14388999 -9.89611491] 0.11820774212940677\n"
     ]
    }
   ],
   "source": [
    "w = eval_LR_model(X_st, y, iterations=1000, eta=0.5)"
   ]
  },
  {
   "cell_type": "code",
   "execution_count": 101,
   "id": "18109043",
   "metadata": {},
   "outputs": [
    {
     "name": "stdout",
     "output_type": "stream",
     "text": [
      "eta: 1000\n",
      "100 [  25.07934031 -198.78923124  634.01212395 -688.97876069] 1.16841945926564e-06\n",
      "200 [  24.96921727 -198.76563345  634.0064463  -688.99661785] 1.0379938773118595e-06\n",
      "300 [  24.87076629 -198.74453681  634.00137043 -689.01258231] 9.337688598289203e-07\n",
      "400 [  24.78174803 -198.72546147  633.99678088 -689.02701719] 8.485691451330228e-07\n",
      "500 [  24.70051164 -198.70805367  633.99259255 -689.04019019] 7.776205223641468e-07\n",
      "600 [  24.62580503 -198.69204511  633.98874087 -689.05230435] 7.176229825016386e-07\n",
      "700 [  24.55665597 -198.67722745  633.98517573 -689.06351731] 6.66222452992798e-07\n",
      "800 [  24.4922944  -198.66343569  633.98185742 -689.07395395] 6.216945084358213e-07\n",
      "900 [  24.43210002 -198.65053689  633.97875395 -689.08371486] 5.827470392133632e-07\n",
      "1000 [  24.37556581 -198.63842242  633.9758392  -689.09288225] 5.483927578363275e-07\n"
     ]
    },
    {
     "name": "stderr",
     "output_type": "stream",
     "text": [
      "C:\\Users\\msi\\AppData\\Local\\Temp/ipykernel_27872/3196251242.py:2: RuntimeWarning: overflow encountered in exp\n",
      "  return 1 / (1 + np.exp(-z))\n"
     ]
    }
   ],
   "source": [
    "w = eval_LR_model(X_st, y, iterations=1000, eta=1000)"
   ]
  },
  {
   "cell_type": "markdown",
   "id": "72a28f24",
   "metadata": {},
   "source": [
    "вывод: увеличение шага обучения уменьшает ошибку и позволяет использовать меньше итераций. "
   ]
  },
  {
   "cell_type": "markdown",
   "id": "57693a22",
   "metadata": {},
   "source": [
    "## Задание 3"
   ]
  },
  {
   "cell_type": "code",
   "execution_count": 102,
   "id": "87e5a604",
   "metadata": {},
   "outputs": [],
   "source": [
    "def calc_pred_proba(w, x): \n",
    "    pred_proba = sigmoid(np.dot(x, w))\n",
    "    return pred_proba"
   ]
  },
  {
   "cell_type": "code",
   "execution_count": 103,
   "id": "7211d34b",
   "metadata": {},
   "outputs": [
    {
     "name": "stdout",
     "output_type": "stream",
     "text": [
      "eta: 0.99\n",
      "100 [-0.42152864 -0.73928971  4.01456556 -3.65310433] 0.2596269625575576\n",
      "200 [-0.38145359 -0.09858504  5.16582523 -5.8178947 ] 0.19397342768086673\n",
      "300 [-0.36261262  0.43411816  5.93719773 -7.43567537] 0.15852706713790626\n",
      "400 [-0.35156587  0.85226376  6.56806963 -8.7451072 ] 0.1353744449570253\n",
      "500 [-0.34416257  1.18046028  7.12119117 -9.84989691] 0.11884645512913325\n",
      "600 [ -0.33887388   1.44070253   7.62155331 -10.80817504] 0.10634754760539389\n",
      "700 [ -0.33497336   1.64945503   8.08204561 -11.65619907] 0.0964960273749269\n",
      "800 [ -0.33205931   1.81868577   8.51047284 -12.41812388] 0.08848589723269451\n",
      "900 [ -0.32988801   1.95712864   8.91207857 -13.11083747] 0.0818145563213349\n",
      "1000 [ -0.32830112   2.07124315   9.29064563 -13.74660574] 0.07615170028624947\n"
     ]
    }
   ],
   "source": [
    "w = eval_LR_model(X_st, y, iterations=1000, eta=0.99)"
   ]
  },
  {
   "cell_type": "code",
   "execution_count": 104,
   "id": "99875810",
   "metadata": {},
   "outputs": [
    {
     "name": "stdout",
     "output_type": "stream",
     "text": [
      "[9.25328923e-02 4.13312256e-02 2.20398461e-02 6.91282496e-01\n",
      " 9.99996966e-01 9.98063283e-01 9.68044043e-01 3.23758736e-06\n",
      " 1.12257678e-01 7.43138279e-02]\n"
     ]
    }
   ],
   "source": [
    "y_pred_proba = calc_pred_proba(w, X_st)\n",
    "print(y_pred_proba)"
   ]
  },
  {
   "cell_type": "markdown",
   "id": "7d3b729c",
   "metadata": {},
   "source": [
    "## Задание 4"
   ]
  },
  {
   "cell_type": "code",
   "execution_count": 105,
   "id": "d256fb8d",
   "metadata": {},
   "outputs": [],
   "source": [
    "def calc_pred(w, x, prob_lim = 0.5):   \n",
    "    pred_proba = sigmoid(np.dot(x, w))\n",
    "    pred = np.zeros_like(pred_proba)\n",
    "    for idx, prob in enumerate(pred_proba):\n",
    "        if prob > prob_lim:\n",
    "            pred[idx] = 1\n",
    "    return pred"
   ]
  },
  {
   "cell_type": "code",
   "execution_count": 106,
   "id": "93a453bb",
   "metadata": {},
   "outputs": [
    {
     "name": "stdout",
     "output_type": "stream",
     "text": [
      "[0. 0. 0. 1. 1. 1. 1. 0. 0. 0.]\n"
     ]
    }
   ],
   "source": [
    "y_pred=calc_pred(w, X_st)\n",
    "print(y_pred)"
   ]
  },
  {
   "cell_type": "markdown",
   "id": "66775e75",
   "metadata": {},
   "source": [
    "## Задание 5"
   ]
  },
  {
   "cell_type": "code",
   "execution_count": 107,
   "id": "ada6acbb",
   "metadata": {},
   "outputs": [],
   "source": [
    "# accuracy\n",
    "def accuracy(real, pred):\n",
    "    trues = np.sum(real-pred == 0) \n",
    "    return trues / len(real) "
   ]
  },
  {
   "cell_type": "code",
   "execution_count": 108,
   "id": "a7b5b1c5",
   "metadata": {},
   "outputs": [
    {
     "name": "stdout",
     "output_type": "stream",
     "text": [
      "1.0\n"
     ]
    }
   ],
   "source": [
    "acc = accuracy(y, y_pred)\n",
    "print(acc)"
   ]
  },
  {
   "cell_type": "code",
   "execution_count": 109,
   "id": "03c6deaa",
   "metadata": {},
   "outputs": [],
   "source": [
    "# матрица ошибок\n",
    "def confusion_matrix(real, pred):\n",
    "    n_classes=len(np.unique(real))\n",
    "    all_res=len(real)\n",
    "    conf_matr=np.zeros((n_classes,n_classes), dtype='int')\n",
    "    for i in range(all_res):\n",
    "        conf_matr[int(real[i])][int(pred[i])] += 1\n",
    "    return conf_matr "
   ]
  },
  {
   "cell_type": "code",
   "execution_count": 110,
   "id": "419167c5",
   "metadata": {},
   "outputs": [
    {
     "name": "stdout",
     "output_type": "stream",
     "text": [
      "[[6 0]\n",
      " [0 4]]\n"
     ]
    }
   ],
   "source": [
    "cf = confusion_matrix(y, y_pred)\n",
    "print(cf)"
   ]
  },
  {
   "cell_type": "code",
   "execution_count": 111,
   "id": "44951466",
   "metadata": {},
   "outputs": [],
   "source": [
    "# precision\n",
    "def precision(real, pred):\n",
    "    tn, fp, fn, tp = confusion_matrix(real, pred).ravel()\n",
    "    return tp/(tp+fp)"
   ]
  },
  {
   "cell_type": "code",
   "execution_count": 112,
   "id": "374142b3",
   "metadata": {},
   "outputs": [
    {
     "name": "stdout",
     "output_type": "stream",
     "text": [
      "1.0\n"
     ]
    }
   ],
   "source": [
    "prec = precision(y, y_pred)\n",
    "print(prec)"
   ]
  },
  {
   "cell_type": "code",
   "execution_count": 113,
   "id": "da8a28a3",
   "metadata": {},
   "outputs": [],
   "source": [
    "# recall\n",
    "def recall(real, pred):\n",
    "    tn, fp, fn, tp = confusion_matrix(real, pred).ravel()\n",
    "    return tp/(tp+fn)"
   ]
  },
  {
   "cell_type": "code",
   "execution_count": 114,
   "id": "28406e81",
   "metadata": {},
   "outputs": [
    {
     "name": "stdout",
     "output_type": "stream",
     "text": [
      "1.0\n"
     ]
    }
   ],
   "source": [
    "rec = recall(y, y_pred)\n",
    "print(rec)"
   ]
  },
  {
   "cell_type": "code",
   "execution_count": 115,
   "id": "6a222045",
   "metadata": {},
   "outputs": [],
   "source": [
    "# F1-score\n",
    "def f1_score(real, pred):\n",
    "    return 2 * precision(real, pred) * recall(real, pred) / (precision(real, pred) + recall(real, pred))"
   ]
  },
  {
   "cell_type": "code",
   "execution_count": 116,
   "id": "e650d5a4",
   "metadata": {},
   "outputs": [
    {
     "name": "stdout",
     "output_type": "stream",
     "text": [
      "1.0\n"
     ]
    }
   ],
   "source": [
    "f1 = f1_score(y, y_pred)\n",
    "print(f1)"
   ]
  },
  {
   "cell_type": "code",
   "execution_count": null,
   "id": "44e239bf",
   "metadata": {},
   "outputs": [],
   "source": []
  }
 ],
 "metadata": {
  "kernelspec": {
   "display_name": "Python 3 (ipykernel)",
   "language": "python",
   "name": "python3"
  },
  "language_info": {
   "codemirror_mode": {
    "name": "ipython",
    "version": 3
   },
   "file_extension": ".py",
   "mimetype": "text/x-python",
   "name": "python",
   "nbconvert_exporter": "python",
   "pygments_lexer": "ipython3",
   "version": "3.9.6"
  }
 },
 "nbformat": 4,
 "nbformat_minor": 5
}
