{
 "cells": [
  {
   "cell_type": "markdown",
   "id": "9b66c3bf",
   "metadata": {},
   "source": [
    "## Ребров. Домашнее задание к уроку 2\n"
   ]
  },
  {
   "cell_type": "markdown",
   "id": "f133541f",
   "metadata": {},
   "source": [
    "## Задание 1"
   ]
  },
  {
   "cell_type": "code",
   "execution_count": 233,
   "id": "63356fce",
   "metadata": {},
   "outputs": [],
   "source": [
    "import numpy as np\n",
    "import matplotlib.pyplot as plt\n",
    "from sklearn import datasets"
   ]
  },
  {
   "cell_type": "code",
   "execution_count": 234,
   "id": "5116f019",
   "metadata": {},
   "outputs": [],
   "source": [
    "# создаю датасет\n",
    "X, y, coef = datasets.make_regression(n_samples=1000, \n",
    "                                      n_features=2, \n",
    "                                      n_informative=2, \n",
    "                                      n_targets=1,\n",
    "                                      noise=5, \n",
    "                                      bias=0, # intersept=0   \n",
    "                                      coef=True, \n",
    "                                      random_state=42)"
   ]
  },
  {
   "cell_type": "code",
   "execution_count": 235,
   "id": "244daee4",
   "metadata": {},
   "outputs": [
    {
     "name": "stdout",
     "output_type": "stream",
     "text": [
      "X:\n",
      "[[-0.16711808  0.14671369]\n",
      " [-0.02090159  0.11732738]\n",
      " [ 0.15041891  0.364961  ]\n",
      " ...\n",
      " [ 0.30263547 -0.75427585]\n",
      " [ 0.38193545  0.43004165]\n",
      " [ 0.07736831 -0.8612842 ]]\n",
      "y:\n",
      "[-1.04159903e+01 -6.37726505e+00  1.31541038e+01  1.49359018e+01\n",
      " -9.68527219e+00 -3.24630082e+01 -4.09318827e+01 -5.81969492e+01\n",
      "  2.10433500e+00 -5.39596390e+01  3.77725020e+01 -5.93219519e+01\n",
      " -1.92844429e+01 -3.04815914e+01  3.36572421e+01  1.03181877e+01\n",
      " -1.06126596e+01 -4.17036642e+01 -1.60670849e+01  8.11457496e+01\n",
      "  2.32499820e+01 -3.97010031e+01 -3.73422387e+01 -4.75803882e+01\n",
      " -5.19321670e+01 -3.71841606e+01  3.11409608e+00  7.13213498e+01\n",
      "  9.25553337e+01 -1.54220531e+01 -2.73936033e+01 -7.06336302e+00\n",
      "  1.64845976e+01  2.28104425e+01 -1.13349400e+01 -7.27600084e+00\n",
      "  4.73389609e+01 -2.90166368e+01  5.08281221e+01 -4.81137434e+01\n",
      " -4.48012983e+01 -1.09038022e+01  5.56090359e+01  3.38561096e+01\n",
      "  5.83104407e+00 -2.93211454e+01  7.69107986e+00  1.57136961e+01\n",
      " -9.58436861e+00  2.29242758e+01  6.53663291e+01  2.00246404e+01\n",
      " -5.77954061e+01  2.06056564e+01 -1.06201355e+00  1.10839866e+01\n",
      "  4.49019525e+01 -1.40678113e+01  2.81528957e+01 -5.15486581e+01\n",
      "  9.99742171e+00 -6.95848432e+00 -1.84297679e+01 -9.20613257e+00\n",
      " -1.73918358e+01  4.96563133e+00  4.10588255e+01  2.84061481e+01\n",
      "  2.28933977e+01 -5.32808871e+01 -1.15701295e+01 -1.87299636e+01\n",
      " -7.00873900e+00 -7.08486982e+01 -3.58987213e+01 -5.42003514e+00\n",
      " -1.14306829e+01  3.12552060e+01  8.74181552e+00  1.79039617e+01\n",
      "  1.25853031e+01  9.98435951e-01  6.81685942e+01 -6.97433400e+01\n",
      "  8.02682438e+01 -2.19421377e+01  2.42180226e+01 -1.31800050e+01\n",
      "  1.19978750e+01  4.18966424e+01  7.28354604e+01  4.15493798e+00\n",
      "  1.67235557e+01  1.43884501e+01 -9.06291051e+00  4.05118854e+01\n",
      "  3.66165383e+01  5.25521560e+01 -5.76278801e+01 -4.53468494e+01\n",
      " -2.44437103e+01 -5.17841874e+01  1.55506618e+01 -4.30009388e+01\n",
      " -3.92374881e+01 -4.96608324e-01  7.51055019e-01  3.75462828e+01\n",
      "  3.14933075e+01  2.97323265e+01  4.64021661e+01 -9.67515439e+01\n",
      "  3.97886879e+00 -3.38769626e+01 -5.27149459e+01 -2.02890142e+01\n",
      "  3.02689619e+01 -5.99783632e+01 -6.05073212e+01  3.29577785e+01\n",
      "  1.75749023e+01  1.82952285e-01  1.18748230e+01  1.84062468e+01\n",
      "  1.21165486e+01 -2.64230306e+01 -1.08556082e+01 -4.11588045e+01\n",
      "  1.68732411e+01 -6.05441376e+01 -4.04670322e+01  5.22713045e+01\n",
      "  2.33749890e+01 -7.39174931e+01  4.73581129e+01  1.02564731e+01\n",
      " -4.87307437e+00  2.75311914e+01  6.64089704e+00  3.97356579e+01\n",
      "  6.83723368e+00 -5.96956587e+01 -1.62559599e+01 -8.00408308e+01\n",
      "  1.00678933e+02  2.82197692e+01  1.80211735e+01  8.84734416e+00\n",
      " -4.28884629e+00  6.42002711e+01  4.56845506e+01  6.93045060e+01\n",
      "  6.11597171e+01 -8.68955556e+01  1.66281045e+01  6.22114927e+01\n",
      " -2.33267051e+01 -3.90757440e+01  2.38124033e+01  2.74216165e+01\n",
      "  3.61932856e+01 -7.18776199e+01  7.29812614e+01 -4.96288149e+01\n",
      " -4.33998460e+01  3.91236190e+00  1.63633465e+01 -2.54574064e+01\n",
      "  2.33197550e+01 -5.69129299e+00 -6.57366760e+01  4.65066880e+01\n",
      "  3.98837413e+01 -9.27804519e-01  1.36860410e+01 -1.58017201e+01\n",
      " -3.30071566e+01  5.35970498e+00 -4.61350436e+01 -2.34017071e+01\n",
      " -1.10071537e+02  5.22148165e+00  1.62584485e+01  7.16673845e+01\n",
      " -2.84304945e+01  8.78888991e+00 -4.61061012e+01 -5.01024680e+01\n",
      " -5.86919742e+01 -7.00472244e+01  4.31227151e+01 -6.36166167e+00\n",
      "  4.53814186e+01  2.89422431e+01  5.34666097e+01  2.49543283e+01\n",
      " -6.06537439e+01 -4.39792108e+00 -1.06282672e+01 -8.49103960e+00\n",
      "  1.03395122e+01 -1.58276472e+01 -9.50255966e+01  2.47719705e+01\n",
      " -4.04880964e+01 -2.66076240e+01 -3.04524773e+01  4.39781592e+01\n",
      " -6.91510097e+01 -3.60930813e+00 -3.84710542e+01  7.03623852e+00\n",
      " -2.42329635e+01  3.76574244e+01  5.31554073e+01  7.61252284e+00\n",
      " -1.75060111e+01 -1.38219423e+01  9.59989676e+00  1.27098154e+01\n",
      "  5.41481737e+01  9.67865495e+01 -3.72190521e+01 -7.70707878e+00\n",
      "  3.08663285e+01 -6.19628248e+01 -1.09380532e+01  2.52477030e+01\n",
      "  5.18161994e-01 -3.32321546e+01  8.79882507e+01  8.31546186e+01\n",
      " -2.25681873e+01  2.84269884e+01  7.31805269e+01  2.31858504e+01\n",
      "  2.36610713e+01 -4.77500127e+01  1.61235296e+01  2.95184241e+00\n",
      " -1.38325592e+01 -2.87454706e+01  6.96332705e+01  2.29532646e+01\n",
      " -1.13504504e+01  7.04585244e+01 -2.05461436e+01 -1.76312700e+01\n",
      " -4.85757653e+01  7.38521403e+00  4.37333571e+00  7.03674902e+01\n",
      "  5.78628262e+01  3.48815094e+01 -2.77004309e+01 -1.40388826e+00\n",
      " -4.10464667e+01  2.18706051e+01 -4.71563576e+01 -4.44157868e+01\n",
      " -4.90401220e+00 -6.26523460e+01  1.90620370e+01 -1.99729293e+01\n",
      " -1.12862261e+01 -1.46140430e+01  4.73320223e+01 -1.35159677e+01\n",
      "  3.02445050e+01 -2.80017713e+01 -7.50531001e+00  1.39191701e+01\n",
      "  4.11884507e+01  3.55788310e+01  3.56053567e+01  2.46434242e+00\n",
      " -2.43470972e+01  3.11745513e+01  8.97296793e+00 -1.79187185e+01\n",
      " -6.09825083e+01 -2.87396129e+01 -3.72508611e+01  9.24695143e-01\n",
      "  1.52482213e+01 -3.80412788e+01  1.92312753e+01 -8.56613103e+01\n",
      " -3.24910975e+01 -3.13279227e+01 -6.33473272e+01 -1.89932166e+01\n",
      "  5.69486136e+01  5.60739907e+01 -8.64656659e-01 -1.18325837e+01\n",
      "  3.74354575e+01  8.23063920e+01  8.47208164e+01  2.55379112e+01\n",
      " -1.83512373e+01  1.91916233e-01 -3.25887652e+01  2.94820296e+01\n",
      " -4.02356118e+01  1.97350830e+01 -3.41964594e+00 -5.04084052e+01\n",
      "  3.80056936e+01  1.19791815e+01  6.04166809e+01  3.95969150e+01\n",
      "  3.67084399e+01 -4.73755881e+01  1.89102305e+01 -3.65933479e+01\n",
      "  5.36580545e+00 -7.35784365e+00  3.10935626e+01  2.24619770e+01\n",
      "  5.95999360e+01 -3.44828622e+01 -1.35756993e+02 -8.09123503e+01\n",
      " -3.40858708e+01 -3.11621759e+01  1.53467754e+01  3.13554536e+01\n",
      "  1.04859414e+02 -6.49835712e+00  7.40855145e+00  4.68774172e+00\n",
      "  6.75324206e+00 -3.07913169e+01  5.14782187e+01 -6.15755007e+00\n",
      " -1.13622033e+01 -3.64776137e+01 -3.15316380e+00 -5.71692576e+01\n",
      " -3.29399035e+01  2.73085286e+01  1.73844370e+00  2.11812412e+01\n",
      " -3.46358173e+01  1.00635498e+01 -7.61858739e+01 -1.35380045e+01\n",
      "  7.90872946e+01  3.75740598e+01 -1.09436425e+01  6.87554123e+01\n",
      " -4.74895354e+00 -1.11318774e+02  7.17569499e+01  1.05582663e+01\n",
      "  1.24260916e+01 -3.66416559e+00  2.19413444e+01 -5.98450716e+00\n",
      " -5.33114016e+01  4.93420412e+01 -3.51073222e+01 -2.63796976e+01\n",
      "  5.47478196e+01 -2.53266479e+01  4.56618442e+01 -3.13351093e+01\n",
      "  2.92961371e+01 -1.63592340e+01 -4.39939624e+01 -1.05290568e+01\n",
      "  3.37870514e+00  5.17136355e-01 -5.95038751e+01  5.95103270e+01\n",
      " -9.88622127e+00  1.65635416e+01 -1.07617484e+02 -7.03207234e+01\n",
      "  9.05107059e+01  2.12189166e+01 -3.74819061e+01  2.85032837e+01\n",
      " -3.48406861e+01 -6.80829581e+01 -5.36765030e+01  7.64096912e+00\n",
      " -1.30150336e+01 -1.52576129e+01 -6.36879170e+01  5.52677637e-01\n",
      " -1.30044551e+01  7.79400943e+00 -2.08824639e+01 -1.18740691e+01\n",
      " -1.06806697e+02 -5.01456332e+01  4.95563745e-01 -2.98362333e+01\n",
      "  3.14057839e+01  2.23255522e+01  4.45066809e+01  8.40778109e+01\n",
      "  1.09399558e+02 -2.26108147e+01  6.73621095e+01  5.15227976e+00\n",
      " -7.29501830e+01  1.61303736e+01  3.73560210e+01  4.17059898e+01\n",
      "  5.68363424e+01  1.29674498e+01  1.36832302e+01 -1.64399763e+01\n",
      "  5.43314549e+01 -1.73687920e+01  5.75067063e+01  4.50278064e+01\n",
      " -1.32049497e+01 -5.55861488e+01 -2.66314064e+01  6.16093623e+00\n",
      " -3.15343106e+01  3.33138074e+01  4.92546394e-01  4.12251640e+01\n",
      "  8.66070286e+01 -2.68483760e+01 -1.21878497e+01  5.31465721e+01\n",
      "  6.05940509e+01 -2.57774636e+01  1.35655597e+02 -1.13563277e+01\n",
      " -6.44037540e+01  2.55329580e+00  9.98930281e+01  5.44543179e+01\n",
      " -2.07533808e+01 -2.97905515e+01 -1.75843846e+01  1.39382880e+01\n",
      " -2.07665803e+01 -4.23367622e+01  7.18994310e+00 -9.99535533e+00\n",
      "  3.66468989e+00  6.21745466e+00 -1.33193376e+01  6.87947125e+00\n",
      "  5.66750238e+01  1.45195590e+01 -3.20937413e+01  1.10252511e+01\n",
      " -2.55398044e+00 -3.33430605e+01 -3.24646674e+00  5.01609032e+01\n",
      " -1.46325340e+01 -4.20413338e+01 -3.67015952e+01  3.42677414e+01\n",
      " -5.12542249e+01  8.55349721e+01 -3.47645608e+01  1.03684997e+01\n",
      "  2.39462908e+00  1.22816481e+01 -3.21705830e+01  5.18215206e+01\n",
      "  7.25822979e+01  4.82151235e+01 -8.02229894e-02  1.91234343e+01\n",
      " -1.06191828e+02  6.14156185e+01 -2.57668140e+01 -6.31616598e+01\n",
      " -4.87268084e+00  4.23099912e+01  4.00151213e+01  1.20766148e+01\n",
      "  1.02995989e+01 -5.13849533e+01  2.23365782e+01 -2.08312915e+01\n",
      "  6.04159005e+01  5.68705639e+01 -3.45462112e+00 -3.34780529e+01\n",
      " -6.77222566e+00  7.50001286e+01  6.06266856e+00  2.62878268e+01\n",
      "  3.50720813e+01 -5.58138392e+01  5.23917762e+01 -3.72375569e+00\n",
      "  7.23403229e+01 -1.58575777e+01 -9.17642787e+01  1.17577951e+01\n",
      "  5.54002667e+01 -1.02643516e+01 -3.27006646e+01  3.95660723e+01\n",
      " -4.40040126e+00 -4.11206016e+01  2.08381169e+01  2.02424064e+01\n",
      "  8.07731421e+01 -3.70249624e+01 -5.68403680e+00  2.18753815e+01\n",
      " -5.21516604e+00 -2.00329796e+01 -5.50894907e+01 -2.30660955e-01\n",
      " -2.74600172e+01  3.84602260e+01  1.74122974e+01 -4.03384893e+01\n",
      " -6.73549192e+01 -2.27556295e+01 -3.57460219e+01 -4.15102862e+01\n",
      "  3.00361097e+01 -2.59317611e+01  2.05954344e+01  1.79858811e+01\n",
      "  5.76167389e+01 -9.65508059e+00  1.38411928e+01  4.70713828e+01\n",
      "  3.25722778e+01 -1.55911694e+01 -1.22563197e+01 -5.09605536e+01\n",
      "  3.47478025e+01 -3.24629068e+01 -2.16981192e+01 -5.25695509e+01\n",
      " -1.17678825e+01  6.15729003e+01 -9.13340466e-01  1.40832491e+01\n",
      "  8.66919861e+00  2.33246253e+01 -6.49123535e+01  4.45078165e+01\n",
      "  2.23203869e+01 -1.29542114e+01 -2.63637046e+01 -6.70569133e+00\n",
      " -3.63349726e+01 -5.51640428e+01  9.89166742e+00  1.96605315e+01\n",
      "  4.85904546e+01 -3.19750965e+00  1.85641871e+01  3.21157108e+01\n",
      "  2.41815701e+01 -4.60277622e+01  4.96480167e+00  1.57210037e+01\n",
      "  2.64595835e+01  3.94217305e+01  6.10716192e+01  7.32629968e+00\n",
      " -1.90356588e+00  5.39403649e+01  4.20919545e+01 -1.58366845e+01\n",
      "  1.26525383e+01  6.06556844e+01 -3.80750103e+01 -1.21178934e+01\n",
      "  6.53754026e+01  1.35704742e+01 -1.37977340e+01  3.72913886e+01\n",
      "  3.39089751e+01  3.93394194e+01  4.18244450e+01  1.35526526e+01\n",
      " -8.24595394e+00 -1.41780612e+01  5.57298115e+01  2.79294866e+00\n",
      "  1.29381951e+00  3.91982405e+01  2.06659890e+01  9.85962136e+00\n",
      " -6.36978109e+00 -4.74260491e+01  2.27178499e+01 -4.27471125e+01\n",
      " -5.51145064e+01 -3.45955780e+00  1.43273797e+01 -5.17199882e+01\n",
      "  5.08823897e+00  1.55338133e+00 -2.23189943e+01  2.17848951e+01\n",
      "  1.56876073e+01 -1.40755434e+01 -1.98210490e+01  2.35469112e+01\n",
      "  6.76849156e+00  6.26398312e+00  1.53907331e+01 -4.80893438e+00\n",
      "  2.04790404e+01 -4.62337541e+01  9.23947875e+01 -3.63963597e-01\n",
      "  2.01421627e+01 -7.18605964e+01 -7.53236790e+01  2.53567539e+01\n",
      "  1.80727135e+01  7.41491208e+01  6.28401341e+01  2.43869791e+01\n",
      "  4.90978386e+01  2.39868234e+01  4.14947620e+01 -1.41921167e+01\n",
      "  2.62736081e+01  4.56017667e+01 -2.22883190e+01  5.15352019e+00\n",
      " -6.69567195e+01  9.64334841e+00  2.32796075e+01 -4.42451426e+01\n",
      "  2.65527814e+00  6.95540408e+00  3.03585609e+01  9.90821367e+01\n",
      " -3.01514113e+01  6.04686199e+00  2.87323551e+01  7.85938902e+00\n",
      " -7.82865243e+01 -1.86283882e+01 -1.17783097e-01  7.49541770e+00\n",
      " -2.38778409e+01 -1.89014853e+01  3.97698991e+01 -1.65421986e+01\n",
      " -1.88541131e+01  8.59779189e+01  3.09613214e+01 -6.33833182e+01\n",
      " -2.05872154e+01  3.74296157e+01 -1.71274524e-01  5.23111009e+01\n",
      "  1.93757645e+01 -1.84710083e+01  1.59906662e+01  4.73518495e+01\n",
      " -4.71964697e+01  1.74450261e+00  9.29074888e+01  3.31262812e+00\n",
      "  2.41183283e+00  9.10113780e+01 -6.13138039e+01  3.01918374e+01\n",
      " -2.01115429e-01  1.99057783e+01  1.91406960e+01 -1.24779972e+01\n",
      "  3.85586673e+00  1.74910264e+01 -5.02928758e+01 -1.81777760e+01\n",
      " -9.80670463e+01  8.73213351e+00  1.53268408e+01  1.14215292e+01\n",
      " -1.18182133e+01 -3.05231811e+01 -7.45645356e+01 -2.79182190e+01\n",
      " -2.24719712e+01  2.55017341e+01 -4.69772923e+01  3.79979460e+01\n",
      " -4.55134447e+01  3.93434785e+01 -8.34294827e+00 -1.87114467e+01\n",
      " -2.17833045e+01  3.70136752e+01  4.89017145e+00 -2.20470202e+01\n",
      " -2.09123523e+01  5.89031633e+00  1.83317584e+01  2.23338364e+00\n",
      " -2.30735326e+01 -4.83034299e+01  6.79332621e+01  7.15554426e-01\n",
      " -2.67536970e+01  8.68381465e+00  3.09757538e+01 -4.06855037e+01\n",
      "  5.94830521e+01 -3.59655555e+01  3.96773083e+01 -4.35432398e+00\n",
      " -2.59382867e+01  2.07811365e+00 -1.13551390e+01  3.37145988e+01\n",
      "  3.68006980e+01 -3.95856936e+01  3.49596417e+01  1.62980761e+01\n",
      "  4.38864778e+01 -6.30645815e+01  3.18822964e+01 -2.38659543e+01\n",
      "  4.99883824e+01  3.97068399e+01  3.13569126e+01 -2.41678139e+01\n",
      " -8.24358779e+01 -1.86203617e+00 -4.76698050e+00  1.07134773e+01\n",
      " -2.85645987e+01  8.83043637e+00  6.02485472e+00  3.10520727e+00\n",
      "  5.78036987e+01 -1.63291279e+00 -3.45533286e+01  7.38439481e+01\n",
      " -3.31177089e+01 -1.74996687e+01 -4.95904266e+01 -4.56186739e+00\n",
      "  2.94378713e+01  2.55967624e+01 -2.15405391e+01 -3.34246541e+01\n",
      "  2.69179086e+01 -1.63707967e+01  3.41426358e+00  2.63594416e+01\n",
      " -3.30856251e+01 -2.34045507e+01 -2.48476633e+01 -3.32766066e+01\n",
      " -2.19752553e+01  2.42357138e+00 -2.88707290e+01  1.06064227e+02\n",
      " -3.59794778e+01 -6.62401662e+01 -3.90098388e+01  3.02095528e+01\n",
      " -1.06438850e+00 -4.32058909e+00  3.17377124e+01  1.13536789e+01\n",
      " -1.02129366e+01  5.11962605e+01  7.01729569e+01 -1.08914594e+02\n",
      "  3.14671578e+01  1.50577764e+01  2.32624667e+01  8.57504293e+00\n",
      " -3.23834033e+01 -2.91856854e+01 -3.86955969e+01 -1.04968644e+01\n",
      "  3.91917436e+01  6.59271328e+01  1.36824503e+01 -1.20874243e+01\n",
      "  4.30534400e+01 -8.32038485e+00  1.50519900e+01 -2.08136926e+01\n",
      "  3.47226362e+01 -6.53525349e+00  1.85040479e+01 -6.18910615e+01\n",
      "  2.95064593e+01  1.86547420e+01 -6.70014052e+00  3.62634366e+01\n",
      "  6.89251472e+01  4.55556653e+01 -2.89635054e+01 -4.65201731e+01\n",
      "  1.14656901e+01 -4.29983870e+01  1.36641457e+01  3.05164662e+01\n",
      " -5.90945138e+01  6.61603418e+00  6.03046127e+00  6.86284663e+01\n",
      " -1.78841245e+01  3.20583390e+01  3.81151816e+00 -1.80959794e+01\n",
      "  3.39291339e+01  4.72246924e+01 -5.31381120e+01 -8.00046074e+00\n",
      " -4.94393971e+01 -5.98261900e+00 -5.94277220e+00  2.71651214e+01\n",
      "  2.30637417e+01  2.60310838e+00  3.05509149e+01 -5.31311842e+01\n",
      "  5.93833858e+01 -1.46192171e+01  2.62818190e+01 -1.89596593e+01\n",
      "  8.11350072e-01  7.04230717e+01  3.78579745e+01  7.10618012e+01\n",
      " -5.13704963e+00  3.94822332e+01  1.14965543e+01 -8.09919729e+00\n",
      " -2.18202316e+01  1.03345351e+02  2.80418153e+01 -2.55358530e+01\n",
      " -5.53095519e+00  2.37150301e+00 -9.81298392e+00 -4.48655544e+01\n",
      " -5.47169255e+00 -2.64934678e+01  3.22285135e-01 -1.01356193e+02\n",
      "  6.48147560e+01  6.86420016e+01 -6.82234419e+01 -8.25895610e+01\n",
      "  3.65096034e+01  6.32166196e+01 -6.62927192e+00  4.03321162e+01\n",
      "  3.00421258e+01 -6.52678601e+01  2.01573922e+01 -3.34637880e+01\n",
      "  2.57043398e+01 -4.55811092e+01  5.69421679e+01 -1.05608166e+00\n",
      "  9.69458471e+00  8.87559538e+00  2.29877711e+01 -5.46968772e+01\n",
      " -1.80244851e+01 -8.73174300e+01 -2.14206285e+01  8.44838234e+01\n",
      "  4.12348503e+01  8.61235973e+01 -1.85228165e+01  2.23100922e+01\n",
      "  6.32629076e+01  1.09824975e+01 -4.01868845e+00 -2.58342672e+01\n",
      "  4.29423710e+01  6.37131232e+01 -3.67119460e+01 -6.14600302e+01\n",
      "  2.54377990e+01  9.85878737e+00  4.72977273e+01  9.50615758e+00\n",
      " -7.54048008e+01 -1.14606490e+01 -5.67598495e+00  2.59525476e+00\n",
      " -1.47731046e+01 -6.75588443e-01 -2.09102652e+01 -1.20419481e+01\n",
      "  7.59832093e+00  4.50418485e+01  7.39827302e+01  2.49587422e+01\n",
      " -1.94235662e+01  2.85003429e+01  1.32108232e+01 -1.63675939e+01\n",
      "  6.17683503e+01  2.57201883e+01  3.23332590e+01  6.66434434e+01\n",
      " -4.13311631e+00 -7.20428267e-01 -2.59889678e+01 -6.31065573e+00\n",
      "  6.47214657e+00 -9.14497115e+01 -1.72826015e+01 -5.39651698e+00\n",
      " -4.02919639e+01 -4.41211323e+01  1.86273056e+01  2.01255048e+01\n",
      " -1.58695685e+01  3.23980423e+01  5.70980080e+01 -4.53136732e+00\n",
      "  7.32389960e+01 -3.58074066e+00  3.06897410e+01 -1.55251491e+01\n",
      "  1.08019212e+01  1.68464783e+01  1.11935878e+01  4.26736714e+00\n",
      "  6.42618464e+01 -1.74315895e+01  2.17060178e+01  1.87142789e-03\n",
      " -2.60257530e+01  5.08016977e+01 -5.53819415e+01  7.00104008e+01\n",
      " -1.62087524e+01 -1.02898155e+01 -3.58280492e+01 -3.02574614e+01\n",
      " -2.73044422e+01 -7.28210278e+00  4.18813193e+01  3.28355971e+01\n",
      " -6.32363418e+01  2.60560378e+01 -1.98201176e+01 -7.02202582e+00\n",
      " -4.10677571e+01 -4.00771729e+01 -2.79508991e+01 -4.98174696e+01\n",
      " -6.39286155e+00 -4.79392653e+01 -1.27092255e+01  6.11375453e+01\n",
      "  1.26217180e+01  2.61677924e+00  9.06900355e+00 -7.09545046e+01\n",
      " -6.27181360e+01  5.81351329e+01 -6.92463248e+01  8.58442814e+00\n",
      " -4.73102383e+01 -4.18907834e+01 -1.32397994e+01  5.76599313e+01\n",
      " -9.82143528e+01  3.87194517e+01 -2.93461061e+01  7.04590776e+01\n",
      " -6.29108653e+01 -2.80206545e+01  5.80282691e+01  5.14336180e+01\n",
      " -1.47122947e+01  8.21100597e+01 -5.40615330e+00  8.60457313e+01\n",
      "  1.33381865e+01 -1.08471516e+01 -3.52484224e+00 -3.28647424e+01\n",
      " -7.69583438e+01  5.30101885e+00  3.05211207e+01 -3.48121153e+00]\n",
      "coef: [40.71064891  6.60098441]\n"
     ]
    }
   ],
   "source": [
    "print(f'X:\\n{X_}\\ny:\\n{y_}\\ncoef: {coef}')"
   ]
  },
  {
   "cell_type": "code",
   "execution_count": 236,
   "id": "70239bac",
   "metadata": {},
   "outputs": [],
   "source": [
    "X = X_.copy()\n",
    "y = y_.copy()\n",
    "mse_gd_list = []\n",
    "mse_sgd_list = []\n",
    "mse_mbgd_list = []\n",
    "err = 11111111111111111\n",
    "err_past = 1"
   ]
  },
  {
   "cell_type": "code",
   "execution_count": 237,
   "id": "122d2ecb",
   "metadata": {},
   "outputs": [],
   "source": [
    "# функция мсе\n",
    "def calc_mse(y, y_pred):\n",
    "    err = np.mean((y - y_pred)**2)\n",
    "    return err"
   ]
  },
  {
   "cell_type": "code",
   "execution_count": 238,
   "id": "293e0fe0",
   "metadata": {},
   "outputs": [],
   "source": [
    "# Метод градиентного спуска\n",
    "def eval_GD(X, y, iterations, eta=1e-4):\n",
    "    np.random.seed(42)\n",
    "    w = np.random.randn(X.shape[1])\n",
    "    n = X.shape[0]\n",
    "    for i in range(1, iterations + 1):\n",
    "        y_pred = np.dot(X, w)\n",
    "        err = calc_mse(y, y_pred)\n",
    "        w -= eta * (1/n * 2 * np.dot(X.T, (y_pred - y)))\n",
    "        mse_gd_list.append(err.copy())\n",
    "        if i % (iterations / 10) == 0:\n",
    "            print(f'{i}: weights={w}, MSE={err:.3f}')\n",
    "    return w"
   ]
  },
  {
   "cell_type": "code",
   "execution_count": 239,
   "id": "02255ebb",
   "metadata": {},
   "outputs": [
    {
     "name": "stdout",
     "output_type": "stream",
     "text": [
      "100: weights=[1.23766997 0.00499459], MSE=1527.567\n",
      "200: weights=[1.96503256 0.14526152], MSE=1472.677\n",
      "300: weights=[2.67905132 0.28259879], MSE=1419.792\n",
      "400: weights=[3.37997109 0.41706745], MSE=1368.839\n",
      "500: weights=[4.0680322  0.54872726], MSE=1319.748\n",
      "600: weights=[4.74347058 0.67763672], MSE=1272.450\n",
      "700: weights=[5.40651783 0.80385315], MSE=1226.880\n",
      "800: weights=[6.0574013  0.92743266], MSE=1182.974\n",
      "900: weights=[6.69634416 1.04843019], MSE=1140.672\n",
      "1000: weights=[7.32356549 1.16689954], MSE=1099.915\n",
      "градиентный спуск\n",
      "[7.32356549 1.16689954] 1099.5155102296965\n",
      "Wall time: 25 ms\n"
     ]
    }
   ],
   "source": [
    "%%time\n",
    "# градиентный спуск\n",
    "w_gd = eval_GD(X, y, 1000, eta=1e-4)\n",
    "y_pred_gd = np.dot(X, w_grad)\n",
    "mse_gd = calc_mse(y, y_pred_gd)\n",
    "\n",
    "print(\"градиентный спуск\")\n",
    "print(w_gd, mse_gd)"
   ]
  },
  {
   "cell_type": "code",
   "execution_count": 240,
   "id": "2bd5dea5",
   "metadata": {},
   "outputs": [],
   "source": [
    "# SGD - стохастический градиентный спуск\n",
    "def eval_SGD(X, y, iterations, eta=1e-4):\n",
    "    np.random.seed(42)\n",
    "    w = np.random.randn(X.shape[1]) # начальное приближение весов\n",
    "    n = X.shape[0] # число наблюдений\n",
    "    for i in range(1, iterations + 1):\n",
    "        err = calc_mse(y, np.dot(X, w))\n",
    "        # генерируем случайный индекс объекта выборки\n",
    "        ind = np.random.randint(n)\n",
    "        y_pred = np.dot(X[ind], w)\n",
    "        w -= eta * (2 * np.dot(X[ind].T, (y_pred - y[ind])))\n",
    "        mse_sgd_list.append(err.copy())\n",
    "        if i % (iterations / 10) == 0:\n",
    "            print(f'{i}: weights={w}, MSE={err:.3f}')\n",
    "    return w, err"
   ]
  },
  {
   "cell_type": "code",
   "execution_count": 241,
   "id": "803a2097",
   "metadata": {},
   "outputs": [
    {
     "name": "stdout",
     "output_type": "stream",
     "text": [
      "100: weights=[1.04408905 0.02755963], MSE=1541.172\n",
      "200: weights=[1.92581518 0.32230444], MSE=1474.024\n",
      "300: weights=[2.56665969 0.50678814], MSE=1424.360\n",
      "400: weights=[3.45923961 0.72250004], MSE=1359.336\n",
      "500: weights=[4.2973403  0.87620547], MSE=1299.553\n",
      "600: weights=[4.9786201  0.97121408], MSE=1252.707\n",
      "700: weights=[5.63826497 1.09847818], MSE=1209.279\n",
      "800: weights=[6.27791029 1.21778268], MSE=1166.011\n",
      "900: weights=[6.9546231  1.33869508], MSE=1121.068\n",
      "1000: weights=[7.40758474 1.50409189], MSE=1090.688\n",
      "стохастический градиентный спуск\n",
      "(array([7.40758474, 1.50409189]), 1090.6880192538463) 1099.5155102296965\n",
      "Wall time: 29 ms\n"
     ]
    }
   ],
   "source": [
    "%%time\n",
    "# стохастический градиентный спуск\n",
    "w_sgd = eval_SGD(X, y_, 1000, eta=1e-4)\n",
    "y_pred_sgd = np.dot(X, w_grad)\n",
    "mse_sgd = calc_mse(y, y_pred_sgd)\n",
    "print(\"стохастический градиентный спуск\")\n",
    "print(w_sgd, mse_sgd)"
   ]
  },
  {
   "cell_type": "code",
   "execution_count": 242,
   "id": "0970f10c",
   "metadata": {},
   "outputs": [],
   "source": [
    "# mini-batch градиентный спуск\n",
    "def eval_mbGD(X, y, iterations, batch=3, eta=1e-4):\n",
    "    np.random.seed(42)\n",
    "    w = np.random.randn(X.shape[1]) # начальное приближение весов\n",
    "    n = X.shape[0] # число наблюдений\n",
    "    n_batch = n // batch # число батчей\n",
    "    if n % batch != 0:\n",
    "        n_batch += 1\n",
    "    print('Количество батчей - ', n_batch)\n",
    "    for i in range(1, iterations + 1):\n",
    "        err = calc_mse(y, np.dot(X, w))\n",
    "        for b in range(n_batch):\n",
    "            start_ = batch * b\n",
    "            end_ = batch * (b + 1)\n",
    "            X_batch = X[start_ : end_, :]\n",
    "            y_batch = y[start_ : end_]\n",
    "            y_pred = np.dot(X_batch, w)\n",
    "            w -= eta * (2/len(y_batch) * np.dot(X_batch.T, (y_pred - y_batch)))\n",
    "            mse_mbgd_list.append(err.copy())\n",
    "        if i % (iterations / 10) == 0:\n",
    "            print(f'{i}: weights={w}, MSE={err:.3f}')\n",
    "    return w, err"
   ]
  },
  {
   "cell_type": "code",
   "execution_count": 243,
   "id": "3141cfc0",
   "metadata": {},
   "outputs": [
    {
     "name": "stdout",
     "output_type": "stream",
     "text": [
      "Количество батчей -  100\n",
      "100: weights=[34.54609735  5.88252145], MSE=63.609\n",
      "200: weights=[39.89291727  6.60348031], MSE=25.179\n",
      "300: weights=[40.73281499  6.68822247], MSE=24.238\n",
      "400: weights=[40.86478463  6.69791851], MSE=24.214\n",
      "500: weights=[40.88552498  6.69898302], MSE=24.214\n",
      "600: weights=[40.88878511  6.69909206], MSE=24.214\n",
      "700: weights=[40.88929763  6.69910181], MSE=24.214\n",
      "800: weights=[40.88937821  6.69910241], MSE=24.214\n",
      "900: weights=[40.88939089  6.69910238], MSE=24.214\n",
      "1000: weights=[40.88939288  6.69910236], MSE=24.214\n",
      "mini-batch градиентный спуск\n",
      "(array([40.88939288,  6.69910236]), 24.213656189343485) 1099.5155102296965\n",
      "Wall time: 707 ms\n"
     ]
    }
   ],
   "source": [
    "%%time\n",
    "# mini-batch градиентный спуск\n",
    "w_mbgd = eval_mbGD(X, y_, 1000, batch=10, eta=1e-4)\n",
    "y_pred_mbgd = np.dot(X, w_grad)\n",
    "mse_mbgd = calc_mse(y, y_pred_mbgd)\n",
    "print(\"mini-batch градиентный спуск\")\n",
    "print(w_mbgd, mse_mbgd)"
   ]
  },
  {
   "cell_type": "code",
   "execution_count": 244,
   "id": "69b1b0e3",
   "metadata": {},
   "outputs": [
    {
     "data": {
      "text/plain": [
       "<matplotlib.legend.Legend at 0x232e8008ee0>"
      ]
     },
     "execution_count": 244,
     "metadata": {},
     "output_type": "execute_result"
    },
    {
     "data": {
      "image/png": "[encoded data removed]",
      "text/plain": [
       "<Figure size 720x360 with 1 Axes>"
      ]
     },
     "metadata": {
      "needs_background": "light"
     },
     "output_type": "display_data"
    }
   ],
   "source": [
    "# Визуализация\n",
    "plt.figure(figsize=(10, 5))\n",
    "plt.plot(range(len(mse_gd_list)), mse_gd_list, color='g', label=r'$gd$')\n",
    "plt.plot(range(len(mse_sgd_list)), mse_sgd_list, color='r', label=r'$sgd$')\n",
    "# plt.plot(range(len(mse_mbgd_list)), mse_mbgd_list, color='b', label=r'$mbgd$')\n",
    "plt.title('Изменение MSE по итерациям')\n",
    "plt.xlabel('Iteration')\n",
    "plt.ylabel('MSE')\n",
    "plt.grid()\n",
    "plt.legend()"
   ]
  },
  {
   "cell_type": "code",
   "execution_count": 245,
   "id": "3ff3eb93",
   "metadata": {},
   "outputs": [
    {
     "data": {
      "text/plain": [
       "<matplotlib.legend.Legend at 0x232eb14cbb0>"
      ]
     },
     "execution_count": 245,
     "metadata": {},
     "output_type": "execute_result"
    },
    {
     "data": {
      "image/png": "[encoded data removed]",
      "text/plain": [
       "<Figure size 720x360 with 1 Axes>"
      ]
     },
     "metadata": {
      "needs_background": "light"
     },
     "output_type": "display_data"
    }
   ],
   "source": [
    "# мне не удалось на одном графике нарисовать все три способа. Думаю, это из-за разного масштаба, но не знаю как объединить.\n",
    "# поэтому мини-батч метод нарисовал на отдельном графике\n",
    "plt.figure(figsize=(10, 5))\n",
    "plt.plot(range(len(mse_mbgd_list)), mse_mbgd_list, color='b', label=r'$mbgd$')\n",
    "plt.title('Изменение MSE по итерациям')\n",
    "plt.xlabel('Iteration')\n",
    "plt.ylabel('MSE')\n",
    "plt.grid()\n",
    "plt.legend()"
   ]
  },
  {
   "cell_type": "markdown",
   "id": "1181226f",
   "metadata": {},
   "source": [
    "Вывод:\n",
    "Честно говоря, я не могу ни из графика, ни из скорости выполнения ячейки, ни из значений ошибки сделать вывод, который написан в википедии, кроме очевидной разницы в затрачиваемых ресурсах. Здесь я вижу, что и градиентный, и стохастический градиентный спуски сходятся примерно одинаково по итерациям. Либо я где-то ошибся, либо я что-то не понял. А мини-батч сходится существенно быстрее предыдущих двух итерациям, но не по времени."
   ]
  },
  {
   "cell_type": "code",
   "execution_count": null,
   "id": "9b1ef927",
   "metadata": {},
   "outputs": [],
   "source": []
  }
 ],
 "metadata": {
  "kernelspec": {
   "display_name": "Python 3 (ipykernel)",
   "language": "python",
   "name": "python3"
  },
  "language_info": {
   "codemirror_mode": {
    "name": "ipython",
    "version": 3
   },
   "file_extension": ".py",
   "mimetype": "text/x-python",
   "name": "python",
   "nbconvert_exporter": "python",
   "pygments_lexer": "ipython3",
   "version": "3.9.6"
  }
 },
 "nbformat": 4,
 "nbformat_minor": 5
}
