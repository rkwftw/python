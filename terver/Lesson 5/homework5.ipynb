{
 "cells": [
  {
   "cell_type": "code",
   "execution_count": 19,
   "id": "b86fe385",
   "metadata": {},
   "outputs": [],
   "source": [
    "import pandas as pd\n",
    "import numpy as np\n",
    "from matplotlib import pyplot as plt\n",
    "%matplotlib inline"
   ]
  },
  {
   "cell_type": "markdown",
   "id": "906cb21b",
   "metadata": {},
   "source": [
    "## Ребров. Домашка. Урок 5\n",
    "\n",
    "\n"
   ]
  },
  {
   "cell_type": "markdown",
   "id": "ef985605",
   "metadata": {},
   "source": [
    "### Задание 1  \n",
    "d_0 = 17mm  \n",
    "a = 0.025  \n",
    "n = 100  \n",
    "std^2 = 4  \n",
    "d_n = 17,5  \n",
    "Тогда H0=d_0=17, H1=d_n>17  \n",
    "Нахожу точку наблюдения и аргумент функции Лапласа:"
   ]
  },
  {
   "cell_type": "code",
   "execution_count": 20,
   "id": "460da545",
   "metadata": {},
   "outputs": [
    {
     "name": "stdout",
     "output_type": "stream",
     "text": [
      "Точка наблюдения = 2.5, аргумент ф-ии Лапласа = 0.475\n"
     ]
    }
   ],
   "source": [
    "x_ = 17.5\n",
    "xn = 17\n",
    "n = 100\n",
    "std = 2\n",
    "a = 0.025\n",
    "u = (x_ - xn)*np.sqrt(n)/std\n",
    "f_ = (1 - 2*a)/2\n",
    "print(f'Точка наблюдения = {u}, аргумент ф-ии Лапласа = {f_}')"
   ]
  },
  {
   "cell_type": "markdown",
   "id": "61df5d96",
   "metadata": {},
   "source": [
    "Аргументу 0.475  соответствует значение функции 1.96.  \n",
    "Т.к. 1.96 < 2.5, гипотеза отвергается, и средний диаметр больше 17мм."
   ]
  },
  {
   "cell_type": "markdown",
   "id": "84524892",
   "metadata": {},
   "source": [
    "### Задание 2  \n",
    "std = 16  \n",
    "a = 0.05  \n",
    "n = 256  \n",
    "x_ = 80  \n",
    "Мне показалось, что распределение Стьюдента для такой большой выборки не очень подходит, поэтому в качестве границ взял две сигмы."
   ]
  },
  {
   "cell_type": "code",
   "execution_count": 21,
   "id": "ebdb90e5",
   "metadata": {},
   "outputs": [
    {
     "name": "stdout",
     "output_type": "stream",
     "text": [
      "Ответ. Доверительный интервал: (78.0, 82.0)\n"
     ]
    }
   ],
   "source": [
    "n = 256\n",
    "std = 16\n",
    "D = std**2\n",
    "t = 2\n",
    "m = 80\n",
    "print(f'Ответ. Доверительный интервал: {m - t*std/np.sqrt(n), m + t*std/np.sqrt(n)}')"
   ]
  },
  {
   "cell_type": "markdown",
   "id": "c4dbb9ad",
   "metadata": {},
   "source": [
    "### Задание 3  \n",
    "веса выборки: 202, 203, 199, 197, 195, 201, 200, 204, 194, 190  \n",
    "вес = 200  \n",
    "a = 0.01\n",
    "H0 = P = 200, H1 = p != 200  \n",
    "\n"
   ]
  },
  {
   "cell_type": "code",
   "execution_count": 24,
   "id": "87e2c161",
   "metadata": {},
   "outputs": [
    {
     "name": "stdout",
     "output_type": "stream",
     "text": [
      "198.5Точка наблюдения = -1.0651074037450896, аргумент ф-ии Лапласа = 0.475\n"
     ]
    }
   ],
   "source": [
    "samples = np.array([202, 203, 199, 197, 195, 201, 200, 204, 194, 190])\n",
    "n = samples.shape[0]\n",
    "x_ = samples.mean()\n",
    "std = samples.std(ddof=1)\n",
    "xn = 200\n",
    "u = (x_ - xn)*np.sqrt(n)/std\n",
    "f_ = (1 - 2*a)/2\n",
    "print(f'Точка наблюдения = {u}, аргумент ф-ии Лапласа = {f_}')"
   ]
  },
  {
   "cell_type": "markdown",
   "id": "5af5dd4b",
   "metadata": {},
   "source": [
    "Аргументу 0.475 соответствует значение функции 1.96  \n",
    "Т.к 1.96 не равно 1.06, утверждение продавца не верно."
   ]
  }
 ],
 "metadata": {
  "kernelspec": {
   "display_name": "Python 3 (ipykernel)",
   "language": "python",
   "name": "python3"
  },
  "language_info": {
   "codemirror_mode": {
    "name": "ipython",
    "version": 3
   },
   "file_extension": ".py",
   "mimetype": "text/x-python",
   "name": "python",
   "nbconvert_exporter": "python",
   "pygments_lexer": "ipython3",
   "version": "3.9.6"
  }
 },
 "nbformat": 4,
 "nbformat_minor": 5
}
