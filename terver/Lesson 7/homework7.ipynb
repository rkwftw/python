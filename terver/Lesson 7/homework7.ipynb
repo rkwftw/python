{
 "cells": [
  {
   "cell_type": "code",
   "execution_count": 14,
   "id": "5f6fad86",
   "metadata": {},
   "outputs": [],
   "source": [
    "import numpy as np\n",
    "import pandas as pd\n",
    "%matplotlib inline\n",
    "from matplotlib import pyplot as plt"
   ]
  },
  {
   "cell_type": "markdown",
   "id": "25ca3102",
   "metadata": {},
   "source": [
    "## Ребров. Домашка 7  \n"
   ]
  },
  {
   "cell_type": "markdown",
   "id": "8fb1a1fd",
   "metadata": {},
   "source": [
    "###  Задание 1   \n",
    "salary = [35, 45, 190, 200, 40, 70, 54, 150, 120, 110]  \n",
    "scoring = [401, 574, 874, 919, 459, 739, 653, 902, 746, 832]  \n",
    "Возьмём в ĸачестве признаĸа значение salary , а в ĸачестве целевой переменной -\n",
    "scoring .\n",
    "1. Найдите ĸоэффициенты линейной регрессии с помощью формул для парной\n",
    "регрессии, а затем с помощью метода наименьших ĸвадратов.\n",
    "2. Постройте scatter plot по данным и отметьте на нём прямую линейной\n",
    "регрессии, полученную в п. 1.\n",
    "3. Посчитайте ĸоэффициент детерминации, среднюю ошибĸу аппроĸсимации.\n",
    "4. Оцените построенное уравнение регрессии с помощью F-ĸритерия Фишера.\n",
    "5. Оцените значимость получившихся параметров уравнения регрессии и постройте\n",
    "для них доверительные интервалы с помощью t-статистиĸи Стьюдента."
   ]
  },
  {
   "cell_type": "code",
   "execution_count": 78,
   "id": "c50f2ba9",
   "metadata": {},
   "outputs": [],
   "source": [
    "salary = x1 = np.array([35, 45, 190, 200, 40, 70, 54, 150, 120, 110])\n",
    "scoring = y1 = np.array([401, 574, 874, 919, 459, 739, 653, 902, 746, 832])\n"
   ]
  },
  {
   "cell_type": "code",
   "execution_count": 79,
   "id": "82c8ebe5",
   "metadata": {},
   "outputs": [
    {
     "name": "stdout",
     "output_type": "stream",
     "text": [
      "Парная регрессия:\n",
      "b0 = 444.1773573243596\n",
      "b1 = 2.620538882402765\n"
     ]
    }
   ],
   "source": [
    "#1\n",
    "b1 = (np.mean(x1 * y1) - np.mean(x1) * np.mean(y1)) / (np.mean(x1 ** 2) - np.mean(x1) ** 2)\n",
    "b0 = np.mean(y1) - b1 * np.mean(x1)\n",
    "print(f'Парная регрессия:\\nb0 = {b0}\\nb1 = {b1}')"
   ]
  },
  {
   "cell_type": "code",
   "execution_count": 80,
   "id": "b98feb90",
   "metadata": {},
   "outputs": [
    {
     "data": {
      "text/plain": [
       "[<matplotlib.lines.Line2D at 0x1ddb08fe070>]"
      ]
     },
     "execution_count": 80,
     "metadata": {},
     "output_type": "execute_result"
    },
    {
     "data": {
      "image/png": "[encoded data removed]",
      "text/plain": [
       "<Figure size 432x288 with 1 Axes>"
      ]
     },
     "metadata": {
      "needs_background": "light"
     },
     "output_type": "display_data"
    }
   ],
   "source": [
    "ox = x1\n",
    "oy = b0 + b1 * ox\n",
    "plt.scatter(x1, y1)\n",
    "plt.plot(ox, oy, color='orange')"
   ]
  },
  {
   "cell_type": "code",
   "execution_count": 81,
   "id": "86d47e76",
   "metadata": {},
   "outputs": [],
   "source": [
    "x1_ = pd.DataFrame(x1)\n",
    "y1_ = pd.DataFrame(y1)"
   ]
  },
  {
   "cell_type": "code",
   "execution_count": 82,
   "id": "80bf046b",
   "metadata": {},
   "outputs": [
    {
     "data": {
      "text/plain": [
       "array([[ 35],\n",
       "       [ 45],\n",
       "       [190],\n",
       "       [200],\n",
       "       [ 40],\n",
       "       [ 70],\n",
       "       [ 54],\n",
       "       [150],\n",
       "       [120],\n",
       "       [110]])"
      ]
     },
     "execution_count": 82,
     "metadata": {},
     "output_type": "execute_result"
    }
   ],
   "source": [
    "y1_.values.reshape(-1, 1)\n",
    "x1_.values.reshape(-1, 1)"
   ]
  },
  {
   "cell_type": "code",
   "execution_count": 83,
   "id": "26a127c1",
   "metadata": {},
   "outputs": [],
   "source": [
    "ones = np.ones((x1_.shape[0], 0))\n",
    "x1_ = np.hstack((ones, x1_))"
   ]
  },
  {
   "cell_type": "code",
   "execution_count": 86,
   "id": "9d8d1624",
   "metadata": {},
   "outputs": [
    {
     "name": "stdout",
     "output_type": "stream",
     "text": [
      "определитель не равен 0. Определитель: 137765.99999999994\n"
     ]
    }
   ],
   "source": [
    "XTX = x1_.T.dot(x1_)\n",
    "if np.linalg.det(XTX) != 0:\n",
    "    print(f'определитель не равен 0. Определитель: {np.linalg.det(XTX)}')\n",
    "else:\n",
    "    print(f'определитель = 0')\n"
   ]
  },
  {
   "cell_type": "code",
   "execution_count": 87,
   "id": "0670b7b5",
   "metadata": {},
   "outputs": [
    {
     "data": {
      "text/plain": [
       "array([[137766.]])"
      ]
     },
     "execution_count": 87,
     "metadata": {},
     "output_type": "execute_result"
    }
   ],
   "source": [
    "XTX"
   ]
  },
  {
   "cell_type": "code",
   "execution_count": 88,
   "id": "e1f590d5",
   "metadata": {},
   "outputs": [
    {
     "name": "stdout",
     "output_type": "stream",
     "text": [
      "[[7.25868502e-06]]\n",
      "b = [[5.88982042]]\n"
     ]
    }
   ],
   "source": [
    "XTX_inv = np.linalg.inv(XTX)\n",
    "b = XTX_inv.dot(x1_.T).dot(y1_)\n",
    "print(f'{XTX_inv}\\nb = {b}')"
   ]
  },
  {
   "cell_type": "markdown",
   "id": "0843058d",
   "metadata": {},
   "source": [
    "Мне кажется, я ошибся с методом наименьших квадратов, но не понимаю, где. Разве b не должно быть размером 2х1?"
   ]
  },
  {
   "cell_type": "code",
   "execution_count": 89,
   "id": "6aac30c4",
   "metadata": {},
   "outputs": [
    {
     "data": {
      "text/plain": [
       "[<matplotlib.lines.Line2D at 0x1ddb0996a00>]"
      ]
     },
     "execution_count": 89,
     "metadata": {},
     "output_type": "execute_result"
    },
    {
     "data": {
      "image/png": "[encoded data removed]",
      "text/plain": [
       "<Figure size 432x288 with 1 Axes>"
      ]
     },
     "metadata": {
      "needs_background": "light"
     },
     "output_type": "display_data"
    }
   ],
   "source": [
    "ox = x1_\n",
    "oy = b * ox\n",
    "plt.scatter(x1_, y1_)\n",
    "plt.plot(ox, oy, color='magenta')"
   ]
  },
  {
   "cell_type": "code",
   "execution_count": 95,
   "id": "eade0f45",
   "metadata": {},
   "outputs": [
    {
     "name": "stdout",
     "output_type": "stream",
     "text": [
      "real: [401 574 874 919 459 739 653 902 746 832]\n",
      "predict: [535.89621821 562.10160703 942.07974498 968.2851338  548.99891262\n",
      " 627.61507909 585.68645697 837.25818968 758.64202321 732.43663439]\n"
     ]
    }
   ],
   "source": [
    "#3.1\n",
    "z1 = b0 + b1 * x1\n",
    "print(f'real: {y1[:y1.shape[0]]}\\npredict: {z1[:z1.shape[0]]}')"
   ]
  },
  {
   "cell_type": "code",
   "execution_count": 103,
   "id": "109328d3",
   "metadata": {},
   "outputs": [
    {
     "data": {
      "text/plain": [
       "0.7876386635293678"
      ]
     },
     "execution_count": 103,
     "metadata": {},
     "output_type": "execute_result"
    }
   ],
   "source": [
    "R2 = z1.var() / y1.var()\n",
    "R2"
   ]
  },
  {
   "cell_type": "code",
   "execution_count": 99,
   "id": "bfa9c91f",
   "metadata": {},
   "outputs": [],
   "source": [
    "#3.2\n",
    "def mean_approx_error(y_real, y_pred):\n",
    "    return np.abs((y_real - y_pred) / y_real).mean()"
   ]
  },
  {
   "cell_type": "code",
   "execution_count": 102,
   "id": "ea8d5c03",
   "metadata": {},
   "outputs": [
    {
     "name": "stdout",
     "output_type": "stream",
     "text": [
      "Средняя ошибка аппроксимации: 0.11469251843561709\n"
     ]
    }
   ],
   "source": [
    "print(f'Средняя ошибка аппроксимации: {mean_approx_error(y1, z1)}')"
   ]
  },
  {
   "cell_type": "code",
   "execution_count": 105,
   "id": "58a8face",
   "metadata": {},
   "outputs": [
    {
     "data": {
      "text/plain": [
       "29.67164085966437"
      ]
     },
     "execution_count": 105,
     "metadata": {},
     "output_type": "execute_result"
    }
   ],
   "source": [
    "#4\n",
    "k1 = 1\n",
    "k2 = 10-2\n",
    "T1 = (R2 / (1 - R2)) * (k2 / k1)\n",
    "T1"
   ]
  },
  {
   "cell_type": "code",
   "execution_count": 107,
   "id": "917ddd3e",
   "metadata": {},
   "outputs": [
    {
     "name": "stdout",
     "output_type": "stream",
     "text": [
      "Collecting scipy\n",
      "  Downloading scipy-1.7.3-cp39-cp39-win_amd64.whl (34.3 MB)\n",
      "Requirement already satisfied: numpy<1.23.0,>=1.16.5 in c:\\python\\lib\\site-packages (from scipy) (1.21.4)\n",
      "Installing collected packages: scipy\n",
      "Successfully installed scipy-1.7.3\n"
     ]
    }
   ],
   "source": [
    "!pip install scipy"
   ]
  },
  {
   "cell_type": "code",
   "execution_count": 111,
   "id": "e606d44e",
   "metadata": {},
   "outputs": [
    {
     "data": {
      "text/plain": [
       "5.317655071578714"
      ]
     },
     "execution_count": 111,
     "metadata": {},
     "output_type": "execute_result"
    }
   ],
   "source": [
    "from scipy import stats\n",
    "alpha = 0.05\n",
    "F_crit = stats.f.ppf(1 - alpha, k1, k2)\n",
    "F_crit"
   ]
  },
  {
   "cell_type": "markdown",
   "id": "3991481e",
   "metadata": {},
   "source": [
    "T > Fкрит= 5.32"
   ]
  },
  {
   "cell_type": "code",
   "execution_count": 125,
   "id": "c7573dff",
   "metadata": {},
   "outputs": [],
   "source": [
    "#5\n",
    "def standart_error_slope(x, y, z):\n",
    "    n = x.shape[0]\n",
    "    \n",
    "    upper = ((y - z) ** 2).sum() / (n - 2)\n",
    "    lower = ((x - x.mean()) ** 2).sum()\n",
    "    \n",
    "    return np.sqrt(upper / lower)"
   ]
  },
  {
   "cell_type": "code",
   "execution_count": 126,
   "id": "1f6b09aa",
   "metadata": {},
   "outputs": [
    {
     "data": {
      "text/plain": [
       "0.48108279568516005"
      ]
     },
     "execution_count": 126,
     "metadata": {},
     "output_type": "execute_result"
    }
   ],
   "source": [
    "S_slope = standart_error_slope(x1, y1, z1)\n",
    "S_slope"
   ]
  },
  {
   "cell_type": "code",
   "execution_count": 127,
   "id": "6da29169",
   "metadata": {},
   "outputs": [
    {
     "data": {
      "text/plain": [
       "5.447168150485579"
      ]
     },
     "execution_count": 127,
     "metadata": {},
     "output_type": "execute_result"
    }
   ],
   "source": [
    "T = b1 / S_slope\n",
    "T"
   ]
  },
  {
   "cell_type": "markdown",
   "id": "6afdc9ba",
   "metadata": {},
   "source": [
    "Критическая область Ωα = (−∞, -2,306) ∪ (2,306, ∞) . T=5,44 попало в критическую область, значит b1 - значимо\n"
   ]
  },
  {
   "cell_type": "code",
   "execution_count": 134,
   "id": "4bef6bc5",
   "metadata": {},
   "outputs": [
    {
     "name": "stdout",
     "output_type": "stream",
     "text": [
      "Доверительный интервал для b1: (1.5111619555527858, 3.729915809252744)\n"
     ]
    }
   ],
   "source": [
    "t = 2.306\n",
    "print(f'Доверительный интервал для b1: {(b1 - t * S_slope, b1 + t * S_slope)}')"
   ]
  },
  {
   "cell_type": "code",
   "execution_count": 135,
   "id": "e482d300",
   "metadata": {},
   "outputs": [],
   "source": [
    "def standard_error_intercept(x, y, z):\n",
    "    return standart_error_slope(x, y, z) * np.sqrt((x ** 2).mean())\n"
   ]
  },
  {
   "cell_type": "code",
   "execution_count": 136,
   "id": "8ade75dc",
   "metadata": {},
   "outputs": [
    {
     "data": {
      "text/plain": [
       "56.46649755068153"
      ]
     },
     "execution_count": 136,
     "metadata": {},
     "output_type": "execute_result"
    }
   ],
   "source": [
    "s_intercept = standard_error_intercept(x1, y1, z1)\n",
    "s_intercept"
   ]
  },
  {
   "cell_type": "code",
   "execution_count": 137,
   "id": "aad6876b",
   "metadata": {},
   "outputs": [
    {
     "data": {
      "text/plain": [
       "7.866210524668863"
      ]
     },
     "execution_count": 137,
     "metadata": {},
     "output_type": "execute_result"
    }
   ],
   "source": [
    "T = b0 / s_intercept\n",
    "T"
   ]
  },
  {
   "cell_type": "markdown",
   "id": "fbdf787c",
   "metadata": {},
   "source": [
    "T попало в критическую область, значит b0 - значимо."
   ]
  },
  {
   "cell_type": "code",
   "execution_count": 138,
   "id": "87e404fc",
   "metadata": {},
   "outputs": [
    {
     "name": "stdout",
     "output_type": "stream",
     "text": [
      "Доверительный интервал для b0: (313.965613972488, 574.3891006762312)\n"
     ]
    }
   ],
   "source": [
    "print(f'Доверительный интервал для b0: {(b0 - t * s_intercept, b0 + t * s_intercept)}')"
   ]
  },
  {
   "cell_type": "markdown",
   "id": "b7cb3649",
   "metadata": {},
   "source": [
    "### Задание 2  \n",
    "Полагаю, подразумевается ответить на вопрос \"в чем разница между использованием функции лапласа и критерия стьюдента\"? потому что текущий вопрос подразумевает ответ вроде \"пользуюсь таблицей квантилей стьюдента, когда использую критерий стьюдента\". Отвечая же на вопрос о разнице между этими методами, функция лапласа используется, когда известна дисперсия, а критерий стьюдента, когда не известна.  "
   ]
  },
  {
   "cell_type": "code",
   "execution_count": null,
   "id": "c7359916",
   "metadata": {},
   "outputs": [],
   "source": []
  }
 ],
 "metadata": {
  "kernelspec": {
   "display_name": "Python 3 (ipykernel)",
   "language": "python",
   "name": "python3"
  },
  "language_info": {
   "codemirror_mode": {
    "name": "ipython",
    "version": 3
   },
   "file_extension": ".py",
   "mimetype": "text/x-python",
   "name": "python",
   "nbconvert_exporter": "python",
   "pygments_lexer": "ipython3",
   "version": "3.9.6"
  }
 },
 "nbformat": 4,
 "nbformat_minor": 5
}
