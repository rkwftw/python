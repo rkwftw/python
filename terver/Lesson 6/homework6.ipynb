{
 "cells": [
  {
   "cell_type": "code",
   "execution_count": 1,
   "id": "ac392ef7",
   "metadata": {},
   "outputs": [],
   "source": [
    "import pandas as pd\n",
    "import numpy as np\n",
    "from matplotlib import pyplot as plt\n",
    "%matplotlib inline"
   ]
  },
  {
   "cell_type": "markdown",
   "id": "f3bdb13b",
   "metadata": {},
   "source": [
    "## Ребров. Домашка. Урок 6  "
   ]
  },
  {
   "cell_type": "markdown",
   "id": "94a25a06",
   "metadata": {},
   "source": [
    "### Задание 1  \n",
    "X: salary = [35, 45, 190, 200, 40, 70, 54, 150, 120, 110]  \n",
    "Y: scoring = [401, 574, 874, 919, 459, 739, 653, 902, 746, 832]  \n",
    "1. Найдите ковариацию этих двух величин: сначала без использования специальных функций, а затем с помощью функции `numpy.cov`. Полученные значения должны быть равны.\n",
    "2. Найдите коэффициент корреляции Пирсона: с помощью ковариации и средних квадратических отклонений двух признаков, а затем с помощью специальных функций из библиотек `numpy` и `pandas`."
   ]
  },
  {
   "cell_type": "code",
   "execution_count": 14,
   "id": "cf89d00e",
   "metadata": {},
   "outputs": [
    {
     "name": "stdout",
     "output_type": "stream",
     "text": [
      "Ковариация без нп: 9157.84\n",
      "Ковариация без нп смещенная: 10175.37777777778\n",
      "Матрица ковариаций:\n",
      "[[ 3882.93333333 10175.37777778]\n",
      " [10175.37777778 33854.32222222]]\n"
     ]
    }
   ],
   "source": [
    "salary = X = np.array([35, 45, 190, 200, 40, 70, 54, 150, 120, 110])\n",
    "scoring = Y = np.array([401, 574, 874, 919, 459, 739, 653, 902, 746, 832])\n",
    "MX = salary.mean()\n",
    "MY = scoring.mean()\n",
    "cov_nonumpy = ((X - MX) * (Y - MY)).mean()\n",
    "cov_nonumpy_ = ((X - MX) * (Y - MY)).sum()/(X.shape[0] - 1)\n",
    "cov_numpy = np.cov(X, Y)\n",
    "\n",
    "print(f'Ковариация без нп: {cov_nonumpy}')\n",
    "print(f'Ковариация без нп смещенная: {cov_nonumpy_}')\n",
    "print(f'Матрица ковариаций:\\n{cov_numpy}')"
   ]
  },
  {
   "cell_type": "code",
   "execution_count": 18,
   "id": "c318dc29",
   "metadata": {},
   "outputs": [
    {
     "name": "stdout",
     "output_type": "stream",
     "text": [
      "Коэффициент корреляции Пирсона без нп: 0.8874900920739162\n",
      "Коэффициент корреляции Пирсона:\n",
      "[[1.         0.88749009]\n",
      " [0.88749009 1.        ]]\n"
     ]
    }
   ],
   "source": [
    "coef_nonumpy = cov_nonumpy / (X.std() * Y.std())\n",
    "coef_numpy = np.corrcoef(X, Y)\n",
    "\n",
    "print(f'Коэффициент корреляции Пирсона без нп: {coef_nonumpy}')\n",
    "print(f'Коэффициент корреляции Пирсона:\\n{coef_numpy}')"
   ]
  },
  {
   "cell_type": "markdown",
   "id": "e16807d6",
   "metadata": {},
   "source": [
    "### Задание 2  \n",
    "выборка: 131, 125, 115, 122, 131, 115, 107, 99, 125, 111  \n",
    "a = 0.05"
   ]
  },
  {
   "cell_type": "code",
   "execution_count": 7,
   "id": "3d509a91",
   "metadata": {},
   "outputs": [
    {
     "name": "stdout",
     "output_type": "stream",
     "text": [
      "Ответ. Доверительный интервал: (111.43033400802975, 124.76966599197024)\n"
     ]
    }
   ],
   "source": [
    "samples = np.array([131, 125, 115, 122, 131, 115, 107, 99, 125, 111])\n",
    "n = samples.shape[0]\n",
    "x_ = samples.mean()\n",
    "std = samples.std(ddof=1)\n",
    "t = 2\n",
    "print(f'Ответ. Доверительный интервал: {x_ - t*std/np.sqrt(n), x_ + t*std/np.sqrt(n)}')"
   ]
  },
  {
   "cell_type": "markdown",
   "id": "0918708b",
   "metadata": {},
   "source": [
    "### Задание 3  \n",
    "D = 25  \n",
    "n = 27  \n",
    "x_ = 174.2  \n",
    "a = 0.05"
   ]
  },
  {
   "cell_type": "code",
   "execution_count": 6,
   "id": "b1aa899f",
   "metadata": {},
   "outputs": [
    {
     "name": "stdout",
     "output_type": "stream",
     "text": [
      "Ответ. Доверительный интервал: (172.27549910270125, 176.12450089729873)\n"
     ]
    }
   ],
   "source": [
    "n = 27\n",
    "x_ = 174.2\n",
    "std = np.sqrt(25)\n",
    "t = 2\n",
    "print(f'Ответ. Доверительный интервал: {x_ - t*std/np.sqrt(n), x_ + t*std/np.sqrt(n)}')"
   ]
  },
  {
   "cell_type": "code",
   "execution_count": null,
   "id": "9b4c2372",
   "metadata": {},
   "outputs": [],
   "source": []
  }
 ],
 "metadata": {
  "kernelspec": {
   "display_name": "Python 3 (ipykernel)",
   "language": "python",
   "name": "python3"
  },
  "language_info": {
   "codemirror_mode": {
    "name": "ipython",
    "version": 3
   },
   "file_extension": ".py",
   "mimetype": "text/x-python",
   "name": "python",
   "nbconvert_exporter": "python",
   "pygments_lexer": "ipython3",
   "version": "3.9.6"
  }
 },
 "nbformat": 4,
 "nbformat_minor": 5
}
